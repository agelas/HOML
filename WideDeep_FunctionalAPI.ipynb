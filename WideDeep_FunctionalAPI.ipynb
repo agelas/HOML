{
 "cells": [
  {
   "cell_type": "code",
   "execution_count": 3,
   "metadata": {},
   "outputs": [],
   "source": [
    "#Constructing a wide and deep neural network, which connects part of the input layers directly to output layer.\n",
    "#Built using Keras functional API and subclassing API later.\n",
    "\n",
    "from sklearn.datasets import fetch_california_housing\n",
    "from sklearn.model_selection import train_test_split\n",
    "from sklearn.preprocessing import StandardScaler\n",
    "from tensorflow import keras\n",
    "from tensorflow.keras import layers\n",
    "from tensorflow.keras import Model"
   ]
  },
  {
   "cell_type": "code",
   "execution_count": 4,
   "metadata": {},
   "outputs": [],
   "source": [
    "housing = fetch_california_housing()\n",
    "\n",
    "#Split data to get training and test set \n",
    "X_train_full, X_test, y_train_full, y_test = train_test_split(housing.data, housing.target)\n",
    "\n",
    "#Further split X_train_full and y_train_full into training and validation sets\n",
    "X_train, X_valid, y_train, y_valid = train_test_split(X_train_full, y_train_full)\n",
    "\n",
    "#Scale all the datasets\n",
    "scaler = StandardScaler()\n",
    "X_train = scaler.fit_transform(X_train)\n",
    "X_valid = scaler.transform(X_valid)\n",
    "X_test = scaler.transform(X_test)\n",
    "\n",
    "#Some more splitting to fit things for the wide and deep network\n",
    "X_train_A, X_train_B = X_train[:, :5], X_train[:, 2:]\n",
    "X_valid_A, X_valid_B = X_valid[:, :5], X_valid[:, 2:]\n",
    "X_test_A, X_test_B = X_test[:, :5], X_test[:, 2:]\n",
    "X_new_A, X_new_B = X_test_A[:3], X_test_B[:3]"
   ]
  },
  {
   "cell_type": "code",
   "execution_count": 24,
   "metadata": {},
   "outputs": [],
   "source": [
    "#Create two Input objects that specifies the input the model will get. The first input layer will take features 0 to 4 \n",
    "#through the wide path. The second input layer sends features 2 to 7 through the deep path.\n",
    "input_1 = keras.Input(shape=[5], name=\"wide_input\")\n",
    "input_2 = keras.Input(shape=[6], name=\"deep_input\")\n",
    "#Dense layer with 30 neurons. Uses Rectified Linear Unit activation function. \n",
    "hidden1 = keras.layers.Dense(30, activation=\"relu\")(input_2)\n",
    "#Another, second dense layer with 30 neurons that takes the outputs from hidden1.\n",
    "hidden2 = keras.layers.Dense(30, activation=\"relu\")(hidden1)\n",
    "#Create a Concatenate layer which puts together the input and the output of the second hidden layer.\n",
    "concat = keras.layers.Concatenate()([input_1, hidden2])\n",
    "#Create an output layer with a single neuron and no activation function.\n",
    "outputs = keras.layers.Dense(1, name=\"output\")(concat)\n",
    "model = keras.Model(inputs=[input_1, input_2], outputs=outputs)"
   ]
  },
  {
   "cell_type": "code",
   "execution_count": 25,
   "metadata": {},
   "outputs": [
    {
     "name": "stdout",
     "output_type": "stream",
     "text": [
      "Epoch 1/30\n",
      "363/363 [==============================] - 0s 1ms/step - loss: 2.7583 - val_loss: 1.1108\n",
      "Epoch 2/30\n",
      "363/363 [==============================] - 0s 971us/step - loss: 0.8913 - val_loss: 0.7728\n",
      "Epoch 3/30\n",
      "363/363 [==============================] - 0s 1ms/step - loss: 0.7148 - val_loss: 0.6786\n",
      "Epoch 4/30\n",
      "363/363 [==============================] - 0s 988us/step - loss: 0.6501 - val_loss: 0.6336\n",
      "Epoch 5/30\n",
      "363/363 [==============================] - 0s 949us/step - loss: 0.6133 - val_loss: 0.6050\n",
      "Epoch 6/30\n",
      "363/363 [==============================] - 0s 977us/step - loss: 0.5878 - val_loss: 0.5846\n",
      "Epoch 7/30\n",
      "363/363 [==============================] - 0s 999us/step - loss: 0.5686 - val_loss: 0.5691\n",
      "Epoch 8/30\n",
      "363/363 [==============================] - 0s 977us/step - loss: 0.5531 - val_loss: 0.5565\n",
      "Epoch 9/30\n",
      "363/363 [==============================] - 0s 980us/step - loss: 0.5410 - val_loss: 0.5468\n",
      "Epoch 10/30\n",
      "363/363 [==============================] - 0s 988us/step - loss: 0.5310 - val_loss: 0.5384\n",
      "Epoch 11/30\n",
      "363/363 [==============================] - 0s 985us/step - loss: 0.5226 - val_loss: 0.5314\n",
      "Epoch 12/30\n",
      "363/363 [==============================] - 0s 1ms/step - loss: 0.5152 - val_loss: 0.5262\n",
      "Epoch 13/30\n",
      "363/363 [==============================] - 0s 1ms/step - loss: 0.5097 - val_loss: 0.5208\n",
      "Epoch 14/30\n",
      "363/363 [==============================] - 0s 1ms/step - loss: 0.5044 - val_loss: 0.5167\n",
      "Epoch 15/30\n",
      "363/363 [==============================] - 0s 1ms/step - loss: 0.5000 - val_loss: 0.5129\n",
      "Epoch 16/30\n",
      "363/363 [==============================] - 0s 974us/step - loss: 0.4959 - val_loss: 0.5092\n",
      "Epoch 17/30\n",
      "363/363 [==============================] - 0s 1ms/step - loss: 0.4922 - val_loss: 0.5056\n",
      "Epoch 18/30\n",
      "363/363 [==============================] - 0s 974us/step - loss: 0.4891 - val_loss: 0.5030\n",
      "Epoch 19/30\n",
      "363/363 [==============================] - 0s 966us/step - loss: 0.4860 - val_loss: 0.5005\n",
      "Epoch 20/30\n",
      "363/363 [==============================] - 0s 991us/step - loss: 0.4830 - val_loss: 0.4983\n",
      "Epoch 21/30\n",
      "363/363 [==============================] - 0s 977us/step - loss: 0.4807 - val_loss: 0.4958\n",
      "Epoch 22/30\n",
      "363/363 [==============================] - 0s 1ms/step - loss: 0.4784 - val_loss: 0.4935\n",
      "Epoch 23/30\n",
      "363/363 [==============================] - 0s 985us/step - loss: 0.4760 - val_loss: 0.4921\n",
      "Epoch 24/30\n",
      "363/363 [==============================] - 0s 980us/step - loss: 0.4745 - val_loss: 0.4895\n",
      "Epoch 25/30\n",
      "363/363 [==============================] - 0s 977us/step - loss: 0.4718 - val_loss: 0.4884\n",
      "Epoch 26/30\n",
      "363/363 [==============================] - 0s 985us/step - loss: 0.4704 - val_loss: 0.4865\n",
      "Epoch 27/30\n",
      "363/363 [==============================] - 0s 1ms/step - loss: 0.4687 - val_loss: 0.4849\n",
      "Epoch 28/30\n",
      "363/363 [==============================] - 0s 977us/step - loss: 0.4670 - val_loss: 0.4833\n",
      "Epoch 29/30\n",
      "363/363 [==============================] - 0s 996us/step - loss: 0.4657 - val_loss: 0.4818\n",
      "Epoch 30/30\n",
      "363/363 [==============================] - 0s 977us/step - loss: 0.4639 - val_loss: 0.4807\n"
     ]
    }
   ],
   "source": [
    "model.compile(loss=\"mse\", optimizer=keras.optimizers.SGD(lr=1e-3))\n",
    "\n",
    "history = model.fit((X_train_A, X_train_B), y_train, epochs = 30, validation_data=((X_valid_A, X_valid_B), y_valid))\n",
    "model.save(\"my_keras_model.h5\")"
   ]
  },
  {
   "cell_type": "code",
   "execution_count": 7,
   "metadata": {},
   "outputs": [
    {
     "name": "stdout",
     "output_type": "stream",
     "text": [
      "162/162 [==============================] - 0s 660us/step - loss: 0.4667\n"
     ]
    }
   ],
   "source": [
    "mse_test = model.evaluate((X_test_A, X_test_B), y_test)\n",
    "y_pred = model.predict((X_new_A, X_new_B))"
   ]
  },
  {
   "cell_type": "code",
   "execution_count": 8,
   "metadata": {},
   "outputs": [
    {
     "data": {
      "image/png": "[encoded data removed]",
      "text/plain": [
       "<Figure size 576x360 with 1 Axes>"
      ]
     },
     "metadata": {
      "needs_background": "light"
     },
     "output_type": "display_data"
    }
   ],
   "source": [
    "import pandas as pd\n",
    "import matplotlib.pyplot as plt\n",
    "\n",
    "pd.DataFrame(history.history).plot(figsize=(8, 5))\n",
    "plt.grid(True)\n",
    "plt.gca().set_ylim(0,1)\n",
    "plt.xlabel('Epochs')\n",
    "plt.ylabel('Loss')\n",
    "plt.show()"
   ]
  },
  {
   "cell_type": "code",
   "execution_count": 9,
   "metadata": {},
   "outputs": [
    {
     "name": "stdout",
     "output_type": "stream",
     "text": [
      "Model: \"model\"\n",
      "__________________________________________________________________________________________________\n",
      "Layer (type)                    Output Shape         Param #     Connected to                     \n",
      "==================================================================================================\n",
      "deep_input (InputLayer)         [(None, 6)]          0                                            \n",
      "__________________________________________________________________________________________________\n",
      "dense (Dense)                   (None, 30)           210         deep_input[0][0]                 \n",
      "__________________________________________________________________________________________________\n",
      "wide_input (InputLayer)         [(None, 5)]          0                                            \n",
      "__________________________________________________________________________________________________\n",
      "dense_1 (Dense)                 (None, 30)           930         dense[0][0]                      \n",
      "__________________________________________________________________________________________________\n",
      "concatenate (Concatenate)       (None, 35)           0           wide_input[0][0]                 \n",
      "                                                                 dense_1[0][0]                    \n",
      "__________________________________________________________________________________________________\n",
      "output (Dense)                  (None, 1)            36          concatenate[0][0]                \n",
      "==================================================================================================\n",
      "Total params: 1,176\n",
      "Trainable params: 1,176\n",
      "Non-trainable params: 0\n",
      "__________________________________________________________________________________________________\n"
     ]
    }
   ],
   "source": [
    "model.summary()"
   ]
  },
  {
   "cell_type": "code",
   "execution_count": 20,
   "metadata": {},
   "outputs": [],
   "source": [
    "#Same model but with subclassing API\n",
    "\n",
    "class WideAndDeepModel(keras.Model):\n",
    "    def __init__(self, units = 30, activation=\"relu\", **kwargs):\n",
    "        super().__init__(**kwargs) #handles standard args like name\n",
    "        self.hidden1 = keras.layers.Dense(units, activation=activation)\n",
    "        self.hidden2 = keras.layers.Dense(units, activation=activation)\n",
    "        self.main_output = keras.layers.Dense(1)\n",
    "    \n",
    "    def call(self, inputs):\n",
    "        input_A, input_B = inputs\n",
    "        hidden1 = self.hidden1(input_B)\n",
    "        hidden2 = self.hidden2(hidden1)\n",
    "        concat = keras.layers.concatenate([input_A, hidden2])\n",
    "        main_output = self.main_output(concat)\n",
    "        return main_output\n",
    "    \n",
    "modelSubClass = WideAndDeepModel()"
   ]
  },
  {
   "cell_type": "code",
   "execution_count": 22,
   "metadata": {},
   "outputs": [
    {
     "name": "stdout",
     "output_type": "stream",
     "text": [
      "WARNING:tensorflow:Layer concatenate_5 is casting an input tensor from dtype float64 to the layer's dtype of float32, which is new behavior in TensorFlow 2.  The layer has dtype float32 because it's dtype defaults to floatx.\n",
      "\n",
      "If you intended to run this layer in float32, you can safely ignore this warning. If in doubt, this warning is likely only an issue if you are porting a TensorFlow 1.X model to TensorFlow 2.\n",
      "\n",
      "To change all layers to have dtype float64 by default, call `tf.keras.backend.set_floatx('float64')`. To change just this layer, pass dtype='float64' to the layer constructor. If you are the author of this layer, you can disable autocasting by passing autocast=False to the base Layer constructor.\n",
      "\n"
     ]
    },
    {
     "data": {
      "text/plain": [
       "<tf.Tensor: shape=(11610, 1), dtype=float32, numpy=\n",
       "array([[ 0.06414867],\n",
       "       [-0.40794876],\n",
       "       [ 0.01864006],\n",
       "       ...,\n",
       "       [-0.7962624 ],\n",
       "       [ 0.05521054],\n",
       "       [ 0.06316879]], dtype=float32)>"
      ]
     },
     "execution_count": 22,
     "metadata": {},
     "output_type": "execute_result"
    }
   ],
   "source": [
    "modelSubClass.call([X_train_A, X_train_B])"
   ]
  },
  {
   "cell_type": "code",
   "execution_count": 26,
   "metadata": {},
   "outputs": [],
   "source": [
    "import os\n",
    "\n",
    "root_logdir = os.path.join(os.curdir, \"my_logs\")\n",
    "\n",
    "def get_run_logdir():\n",
    "    import time\n",
    "    run_id = time.strftime(\"run_%Y_%m_%d-%H_%M_%S\")\n",
    "    return os.path.join(root_logdir, run_id)\n",
    "\n",
    "run_logdir = get_run_logdir()"
   ]
  },
  {
   "cell_type": "code",
   "execution_count": 27,
   "metadata": {},
   "outputs": [
    {
     "name": "stdout",
     "output_type": "stream",
     "text": [
      "Epoch 1/30\n",
      "  2/363 [..............................] - ETA: 1:58 - loss: 0.4782WARNING:tensorflow:Method (on_train_batch_end) is slow compared to the batch update (0.341151). Check your callbacks.\n",
      "363/363 [==============================] - 1s 3ms/step - loss: 0.4625 - val_loss: 0.4798\n",
      "Epoch 2/30\n",
      "363/363 [==============================] - 1s 1ms/step - loss: 0.4614 - val_loss: 0.4781\n",
      "Epoch 3/30\n",
      "363/363 [==============================] - 1s 2ms/step - loss: 0.4598 - val_loss: 0.4770\n",
      "Epoch 4/30\n",
      "363/363 [==============================] - 1s 1ms/step - loss: 0.4586 - val_loss: 0.4755\n",
      "Epoch 5/30\n",
      "363/363 [==============================] - 1s 2ms/step - loss: 0.4572 - val_loss: 0.4744\n",
      "Epoch 6/30\n",
      "363/363 [==============================] - 1s 1ms/step - loss: 0.4561 - val_loss: 0.4733\n",
      "Epoch 7/30\n",
      "363/363 [==============================] - 1s 1ms/step - loss: 0.4550 - val_loss: 0.4725\n",
      "Epoch 8/30\n",
      "363/363 [==============================] - 1s 1ms/step - loss: 0.4538 - val_loss: 0.4710\n",
      "Epoch 9/30\n",
      "363/363 [==============================] - 1s 1ms/step - loss: 0.4526 - val_loss: 0.4698\n",
      "Epoch 10/30\n",
      "363/363 [==============================] - 1s 1ms/step - loss: 0.4512 - val_loss: 0.4687\n",
      "Epoch 11/30\n",
      "363/363 [==============================] - 1s 1ms/step - loss: 0.4502 - val_loss: 0.4680\n",
      "Epoch 12/30\n",
      "363/363 [==============================] - 1s 1ms/step - loss: 0.4494 - val_loss: 0.4664\n",
      "Epoch 13/30\n",
      "363/363 [==============================] - 1s 1ms/step - loss: 0.4483 - val_loss: 0.4654\n",
      "Epoch 14/30\n",
      "363/363 [==============================] - 0s 1ms/step - loss: 0.4471 - val_loss: 0.4645\n",
      "Epoch 15/30\n",
      "363/363 [==============================] - 0s 1ms/step - loss: 0.4466 - val_loss: 0.4637\n",
      "Epoch 16/30\n",
      "363/363 [==============================] - 1s 2ms/step - loss: 0.4451 - val_loss: 0.4632\n",
      "Epoch 17/30\n",
      "363/363 [==============================] - 1s 1ms/step - loss: 0.4441 - val_loss: 0.4614\n",
      "Epoch 18/30\n",
      "363/363 [==============================] - 1s 1ms/step - loss: 0.4431 - val_loss: 0.4604\n",
      "Epoch 19/30\n",
      "363/363 [==============================] - 1s 2ms/step - loss: 0.4420 - val_loss: 0.4594\n",
      "Epoch 20/30\n",
      "363/363 [==============================] - 0s 1ms/step - loss: 0.4411 - val_loss: 0.4584\n",
      "Epoch 21/30\n",
      "363/363 [==============================] - 1s 1ms/step - loss: 0.4405 - val_loss: 0.4577\n",
      "Epoch 22/30\n",
      "363/363 [==============================] - 1s 1ms/step - loss: 0.4392 - val_loss: 0.4568\n",
      "Epoch 23/30\n",
      "363/363 [==============================] - 1s 1ms/step - loss: 0.4386 - val_loss: 0.4553\n",
      "Epoch 24/30\n",
      "363/363 [==============================] - 1s 2ms/step - loss: 0.4376 - val_loss: 0.4547\n",
      "Epoch 25/30\n",
      "363/363 [==============================] - 1s 1ms/step - loss: 0.4366 - val_loss: 0.4534\n",
      "Epoch 26/30\n",
      "363/363 [==============================] - 0s 1ms/step - loss: 0.4358 - val_loss: 0.4531\n",
      "Epoch 27/30\n",
      "363/363 [==============================] - 1s 1ms/step - loss: 0.4348 - val_loss: 0.4516\n",
      "Epoch 28/30\n",
      "363/363 [==============================] - 1s 1ms/step - loss: 0.4336 - val_loss: 0.4510\n",
      "Epoch 29/30\n",
      "363/363 [==============================] - 1s 2ms/step - loss: 0.4332 - val_loss: 0.4496\n",
      "Epoch 30/30\n",
      "363/363 [==============================] - 1s 1ms/step - loss: 0.4321 - val_loss: 0.4489\n"
     ]
    }
   ],
   "source": [
    "tensorboard_cb = keras.callbacks.TensorBoard(run_logdir)\n",
    "history = model.fit((X_train_A, X_train_B), y_train, epochs = 30, validation_data=((X_valid_A, X_valid_B), y_valid), callbacks=[tensorboard_cb])\n"
   ]
  },
  {
   "cell_type": "code",
   "execution_count": 28,
   "metadata": {},
   "outputs": [
    {
     "data": {
      "text/plain": [
       "ERROR: Timed out waiting for TensorBoard to start. It may still be running as pid 30172."
      ]
     },
     "metadata": {},
     "output_type": "display_data"
    }
   ],
   "source": [
    "%load_ext tensorboard\n",
    "%tensorboard --logdir=./my_logs --port=6006"
   ]
  },
  {
   "cell_type": "code",
   "execution_count": null,
   "metadata": {},
   "outputs": [],
   "source": [
    "#TensorBoard is still available if you load port 6006 in browser."
   ]
  }
 ],
 "metadata": {
  "kernelspec": {
   "display_name": "Python 3",
   "language": "python",
   "name": "python3"
  },
  "language_info": {
   "codemirror_mode": {
    "name": "ipython",
    "version": 3
   },
   "file_extension": ".py",
   "mimetype": "text/x-python",
   "name": "python",
   "nbconvert_exporter": "python",
   "pygments_lexer": "ipython3",
   "version": "3.7.7"
  }
 },
 "nbformat": 4,
 "nbformat_minor": 4
}
