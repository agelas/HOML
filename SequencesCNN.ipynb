{
 "cells": [
  {
   "cell_type": "code",
   "execution_count": 1,
   "metadata": {},
   "outputs": [],
   "source": [
    "import sklearn as sk\n",
    "import tensorflow as tf\n",
    "from tensorflow import keras\n",
    "import numpy as np\n",
    "%matplotlib inline\n",
    "import matplotlib as mpl\n",
    "import matplotlib.pyplot as plt"
   ]
  },
  {
   "cell_type": "code",
   "execution_count": 2,
   "metadata": {},
   "outputs": [],
   "source": [
    "#Generating a series\n",
    "def generate_time_series(batch_size, n_steps):\n",
    "    freq1, freq2, offsets1, offsets2 = np.random.rand(4, batch_size, 1)\n",
    "    time = np.linspace(0, 1, n_steps)\n",
    "    series = 0.5 * np.sin((time - offsets1)*(freq1 * 10 + 10)) #first wave\n",
    "    series += 0.2 * np.sin((time - offsets2) * (freq2 * 20 + 20)) #add another wave\n",
    "    series += 0.1 * (np.random.rand(batch_size, n_steps) - 0.5) #putting in some noise\n",
    "    return series[..., np.newaxis].astype(np.float32)"
   ]
  },
  {
   "cell_type": "code",
   "execution_count": 18,
   "metadata": {},
   "outputs": [],
   "source": [
    "def plot_series(series, y=None, y_pred=None, x_label=\"$t$\", y_label=\"$x(t)$\"):\n",
    "    plt.plot(series, \".-\")\n",
    "    if y is not None:\n",
    "        plt.plot(n_steps, y, \"bx\", markersize = 10)\n",
    "    if y_pred is not None:\n",
    "        plt.plot(n_steps, y_pred, \"ro\")\n",
    "    plt.grid(True)\n",
    "    if x_label:\n",
    "        plt.xlabel(x_label, fontsize=16)\n",
    "    if y_label:\n",
    "        plt.ylabel(y_label, fontsize=16, rotation=0)\n",
    "    plt.hlines(0, 0, 100, linewidth = 1)\n",
    "    plt.axis([0, n_steps+1, -1, 1])"
   ]
  },
  {
   "cell_type": "code",
   "execution_count": 3,
   "metadata": {},
   "outputs": [],
   "source": [
    "#For plotting learning curves\n",
    "def plot_learning_curves(loss, val_loss):\n",
    "    plt.plot(np.arange(len(loss)) + 0.5, loss, \"b.-\", label=\"Training Loss\")\n",
    "    plt.plot(np.arange(len(val_loss)) + 1, val_loss, \"r.-\", label = \"Validation Loss\")\n",
    "    plt.gca().xaxis.set_major_locator(mpl.ticker.MaxNLocator(integer=True))\n",
    "    plt.axis([1, 20, 0, 0.1])\n",
    "    plt.legend(fontsize = 14)\n",
    "    plt.xlabel(\"Epochs\")\n",
    "    plt.ylabel(\"Loss\")\n",
    "    plt.grid(True)"
   ]
  },
  {
   "cell_type": "code",
   "execution_count": 16,
   "metadata": {},
   "outputs": [],
   "source": [
    "def plot_multiple_forecasts(X, Y, Y_pred):\n",
    "    n_steps = X.shape[1]\n",
    "    ahead = Y.shape[1]\n",
    "    plot_series(X[0, :, 0])\n",
    "    plt.plot(np.arange(n_steps, n_steps + ahead), Y[0, :, 0], \"ro-\", label=\"Actual\")\n",
    "    plt.plot(np.arange(n_steps, n_steps + ahead), Y_pred[0, :, 0], \"bx-\", label=\"Prediction\", markersize = 10)\n",
    "    plt.axis([0, n_steps + ahead, -1, 1])\n",
    "    plt.legend(fontsize = 14)"
   ]
  },
  {
   "cell_type": "code",
   "execution_count": 10,
   "metadata": {},
   "outputs": [],
   "source": [
    "n_steps = 60\n",
    "series = generate_time_series(10000, n_steps + 10)\n",
    "X_train = series[:7000, :n_steps]\n",
    "X_valid = series[7000:9000, :n_steps]\n",
    "X_test = series[9000:, :n_steps]\n",
    "Y = np.empty((10000, n_steps, 10))\n",
    "for step_ahead in range(1, 10 + 1):\n",
    "    Y[..., step_ahead - 1] = series[..., step_ahead:step_ahead + n_steps, 0]\n",
    "Y_train = Y[:7000]\n",
    "Y_valid = Y[7000:9000]\n",
    "Y_test = Y[9000:]"
   ]
  },
  {
   "cell_type": "code",
   "execution_count": 11,
   "metadata": {},
   "outputs": [],
   "source": [
    "def last_time_step_mse(Y_true, Y_pred):\n",
    "    return keras.metrics.mean_squared_error(Y_true[:, -1], Y_pred[:, -1])"
   ]
  },
  {
   "cell_type": "markdown",
   "metadata": {},
   "source": [
    "<h4>1D Convolutional Layers</h4>"
   ]
  },
  {
   "cell_type": "code",
   "execution_count": 13,
   "metadata": {
    "scrolled": true
   },
   "outputs": [
    {
     "name": "stdout",
     "output_type": "stream",
     "text": [
      "Epoch 1/20\n",
      "219/219 [==============================] - 7s 31ms/step - loss: 0.0655 - last_time_step_mse: 0.0575 - val_loss: 0.0432 - val_last_time_step_mse: 0.0342\n",
      "Epoch 2/20\n",
      "219/219 [==============================] - 6s 29ms/step - loss: 0.0370 - last_time_step_mse: 0.0294 - val_loss: 0.0334 - val_last_time_step_mse: 0.0263\n",
      "Epoch 3/20\n",
      "219/219 [==============================] - 6s 28ms/step - loss: 0.0290 - last_time_step_mse: 0.0209 - val_loss: 0.0268 - val_last_time_step_mse: 0.0166\n",
      "Epoch 4/20\n",
      "219/219 [==============================] - 7s 33ms/step - loss: 0.0240 - last_time_step_mse: 0.0138 - val_loss: 0.0233 - val_last_time_step_mse: 0.0121\n",
      "Epoch 5/20\n",
      "219/219 [==============================] - 7s 32ms/step - loss: 0.0214 - last_time_step_mse: 0.0110 - val_loss: 0.0214 - val_last_time_step_mse: 0.0112\n",
      "Epoch 6/20\n",
      "219/219 [==============================] - 7s 30ms/step - loss: 0.0202 - last_time_step_mse: 0.0098 - val_loss: 0.0203 - val_last_time_step_mse: 0.0097\n",
      "Epoch 7/20\n",
      "219/219 [==============================] - 6s 26ms/step - loss: 0.0195 - last_time_step_mse: 0.0093 - val_loss: 0.0197 - val_last_time_step_mse: 0.0095\n",
      "Epoch 8/20\n",
      "219/219 [==============================] - 6s 26ms/step - loss: 0.0190 - last_time_step_mse: 0.0088 - val_loss: 0.0191 - val_last_time_step_mse: 0.0085\n",
      "Epoch 9/20\n",
      "219/219 [==============================] - 6s 27ms/step - loss: 0.0186 - last_time_step_mse: 0.0084 - val_loss: 0.0188 - val_last_time_step_mse: 0.0085\n",
      "Epoch 10/20\n",
      "219/219 [==============================] - 6s 28ms/step - loss: 0.0182 - last_time_step_mse: 0.0081 - val_loss: 0.0186 - val_last_time_step_mse: 0.0080\n",
      "Epoch 11/20\n",
      "219/219 [==============================] - 6s 28ms/step - loss: 0.0180 - last_time_step_mse: 0.0081 - val_loss: 0.0181 - val_last_time_step_mse: 0.0078\n",
      "Epoch 12/20\n",
      "219/219 [==============================] - 6s 27ms/step - loss: 0.0178 - last_time_step_mse: 0.0079 - val_loss: 0.0180 - val_last_time_step_mse: 0.0077\n",
      "Epoch 13/20\n",
      "219/219 [==============================] - 6s 27ms/step - loss: 0.0174 - last_time_step_mse: 0.0076 - val_loss: 0.0177 - val_last_time_step_mse: 0.0076\n",
      "Epoch 14/20\n",
      "219/219 [==============================] - 6s 27ms/step - loss: 0.0173 - last_time_step_mse: 0.0077 - val_loss: 0.0175 - val_last_time_step_mse: 0.0074\n",
      "Epoch 15/20\n",
      "219/219 [==============================] - 6s 26ms/step - loss: 0.0172 - last_time_step_mse: 0.0076 - val_loss: 0.0176 - val_last_time_step_mse: 0.0075\n",
      "Epoch 16/20\n",
      "219/219 [==============================] - 6s 26ms/step - loss: 0.0169 - last_time_step_mse: 0.0074 - val_loss: 0.0172 - val_last_time_step_mse: 0.0072\n",
      "Epoch 17/20\n",
      "219/219 [==============================] - 6s 26ms/step - loss: 0.0167 - last_time_step_mse: 0.0073 - val_loss: 0.0170 - val_last_time_step_mse: 0.0071\n",
      "Epoch 18/20\n",
      "219/219 [==============================] - 6s 26ms/step - loss: 0.0166 - last_time_step_mse: 0.0072 - val_loss: 0.0172 - val_last_time_step_mse: 0.0074\n",
      "Epoch 19/20\n",
      "219/219 [==============================] - 6s 26ms/step - loss: 0.0165 - last_time_step_mse: 0.0072 - val_loss: 0.0166 - val_last_time_step_mse: 0.0069\n",
      "Epoch 20/20\n",
      "219/219 [==============================] - 6s 27ms/step - loss: 0.0163 - last_time_step_mse: 0.0071 - val_loss: 0.0172 - val_last_time_step_mse: 0.0077\n"
     ]
    }
   ],
   "source": [
    "model = keras.models.Sequential([\n",
    "    keras.layers.Conv1D(filters = 20, kernel_size = 4, strides = 2, padding = \"valid\", input_shape = [None, 1]),\n",
    "    keras.layers.GRU(20, return_sequences=True),\n",
    "    keras.layers.GRU(20, return_sequences=True),\n",
    "    keras.layers.TimeDistributed(keras.layers.Dense(10))\n",
    "])\n",
    "\n",
    "model.compile(loss=\"mse\", optimizer=\"adam\", metrics=[last_time_step_mse])\n",
    "history = model.fit(X_train, Y_train[:, 3::2], epochs = 20, validation_data = (X_valid, Y_valid[:, 3::2]))"
   ]
  },
  {
   "cell_type": "code",
   "execution_count": 22,
   "metadata": {},
   "outputs": [
    {
     "name": "stdout",
     "output_type": "stream",
     "text": [
      "63/63 [==============================] - 0s 5ms/step - loss: 0.0172 - last_time_step_mse: 0.0077\n"
     ]
    },
    {
     "data": {
      "text/plain": [
       "[0.017193758860230446, 0.007748914882540703]"
      ]
     },
     "execution_count": 22,
     "metadata": {},
     "output_type": "execute_result"
    }
   ],
   "source": [
    "model.evaluate(X_valid, Y_valid[:, 3::2])"
   ]
  },
  {
   "cell_type": "code",
   "execution_count": 14,
   "metadata": {},
   "outputs": [
    {
     "data": {
      "image/png": "[encoded data removed]",
      "text/plain": [
       "<Figure size 432x288 with 1 Axes>"
      ]
     },
     "metadata": {
      "needs_background": "light"
     },
     "output_type": "display_data"
    }
   ],
   "source": [
    "plot_learning_curves(history.history[\"loss\"], history.history[\"val_loss\"])\n",
    "plt.show()"
   ]
  },
  {
   "cell_type": "code",
   "execution_count": 25,
   "metadata": {},
   "outputs": [
    {
     "data": {
      "image/png": "[encoded data removed]",
      "text/plain": [
       "<Figure size 432x288 with 1 Axes>"
      ]
     },
     "metadata": {
      "needs_background": "light"
     },
     "output_type": "display_data"
    }
   ],
   "source": [
    "series = generate_time_series(1, 60 + 10)\n",
    "X_new, Y_new = series[:, :60, :], series[:, 60:, :]\n",
    "Y_pred = model.predict(X_new)[:, -1][..., np.newaxis]\n",
    "plot_multiple_forecasts(X_new, Y_new, Y_pred)\n",
    "plt.show()"
   ]
  },
  {
   "cell_type": "markdown",
   "metadata": {},
   "source": [
    "<h4>Wavenet</h4>"
   ]
  },
  {
   "cell_type": "code",
   "execution_count": 26,
   "metadata": {},
   "outputs": [
    {
     "name": "stdout",
     "output_type": "stream",
     "text": [
      "Epoch 1/20\n",
      "219/219 [==============================] - 1s 4ms/step - loss: 0.1092 - last_time_step_mse: 0.1070 - val_loss: 0.0829 - val_last_time_step_mse: 0.0793\n",
      "Epoch 2/20\n",
      "219/219 [==============================] - 1s 3ms/step - loss: 0.0723 - last_time_step_mse: 0.0682 - val_loss: 0.0663 - val_last_time_step_mse: 0.0594\n",
      "Epoch 3/20\n",
      "219/219 [==============================] - 1s 3ms/step - loss: 0.0650 - last_time_step_mse: 0.0593 - val_loss: 0.0644 - val_last_time_step_mse: 0.0570\n",
      "Epoch 4/20\n",
      "219/219 [==============================] - 1s 3ms/step - loss: 0.0638 - last_time_step_mse: 0.0579 - val_loss: 0.0634 - val_last_time_step_mse: 0.0561\n",
      "Epoch 5/20\n",
      "219/219 [==============================] - 1s 3ms/step - loss: 0.0628 - last_time_step_mse: 0.0572 - val_loss: 0.0624 - val_last_time_step_mse: 0.0554\n",
      "Epoch 6/20\n",
      "219/219 [==============================] - 1s 3ms/step - loss: 0.0618 - last_time_step_mse: 0.0565 - val_loss: 0.0615 - val_last_time_step_mse: 0.0550\n",
      "Epoch 7/20\n",
      "219/219 [==============================] - 1s 3ms/step - loss: 0.0609 - last_time_step_mse: 0.0560 - val_loss: 0.0605 - val_last_time_step_mse: 0.0541\n",
      "Epoch 8/20\n",
      "219/219 [==============================] - 1s 3ms/step - loss: 0.0601 - last_time_step_mse: 0.0557 - val_loss: 0.0598 - val_last_time_step_mse: 0.0537\n",
      "Epoch 9/20\n",
      "219/219 [==============================] - 1s 3ms/step - loss: 0.0595 - last_time_step_mse: 0.0553 - val_loss: 0.0593 - val_last_time_step_mse: 0.0532\n",
      "Epoch 10/20\n",
      "219/219 [==============================] - 1s 4ms/step - loss: 0.0589 - last_time_step_mse: 0.0551 - val_loss: 0.0588 - val_last_time_step_mse: 0.0529\n",
      "Epoch 11/20\n",
      "219/219 [==============================] - 1s 4ms/step - loss: 0.0585 - last_time_step_mse: 0.0549 - val_loss: 0.0584 - val_last_time_step_mse: 0.0526\n",
      "Epoch 12/20\n",
      "219/219 [==============================] - 1s 3ms/step - loss: 0.0580 - last_time_step_mse: 0.0547 - val_loss: 0.0580 - val_last_time_step_mse: 0.0526\n",
      "Epoch 13/20\n",
      "219/219 [==============================] - 1s 4ms/step - loss: 0.0576 - last_time_step_mse: 0.0545 - val_loss: 0.0576 - val_last_time_step_mse: 0.0522\n",
      "Epoch 14/20\n",
      "219/219 [==============================] - 1s 3ms/step - loss: 0.0573 - last_time_step_mse: 0.0541 - val_loss: 0.0573 - val_last_time_step_mse: 0.0518\n",
      "Epoch 15/20\n",
      "219/219 [==============================] - 1s 3ms/step - loss: 0.0571 - last_time_step_mse: 0.0540 - val_loss: 0.0571 - val_last_time_step_mse: 0.0516\n",
      "Epoch 16/20\n",
      "219/219 [==============================] - 1s 4ms/step - loss: 0.0569 - last_time_step_mse: 0.0539 - val_loss: 0.0569 - val_last_time_step_mse: 0.0515\n",
      "Epoch 17/20\n",
      "219/219 [==============================] - 1s 3ms/step - loss: 0.0567 - last_time_step_mse: 0.0537 - val_loss: 0.0567 - val_last_time_step_mse: 0.0513\n",
      "Epoch 18/20\n",
      "219/219 [==============================] - 1s 3ms/step - loss: 0.0566 - last_time_step_mse: 0.0536 - val_loss: 0.0566 - val_last_time_step_mse: 0.0514\n",
      "Epoch 19/20\n",
      "219/219 [==============================] - 1s 3ms/step - loss: 0.0564 - last_time_step_mse: 0.0536 - val_loss: 0.0565 - val_last_time_step_mse: 0.0512\n",
      "Epoch 20/20\n",
      "219/219 [==============================] - 1s 4ms/step - loss: 0.0563 - last_time_step_mse: 0.0535 - val_loss: 0.0564 - val_last_time_step_mse: 0.0513\n",
      "Epoch 1/20\n",
      "219/219 [==============================] - 2s 8ms/step - loss: 0.0747 - last_time_step_mse: 0.0722 - val_loss: 0.0547 - val_last_time_step_mse: 0.0494\n",
      "Epoch 2/20\n",
      "219/219 [==============================] - 1s 7ms/step - loss: 0.0529 - last_time_step_mse: 0.0502 - val_loss: 0.0520 - val_last_time_step_mse: 0.0467\n",
      "Epoch 3/20\n",
      "219/219 [==============================] - 1s 6ms/step - loss: 0.0514 - last_time_step_mse: 0.0486 - val_loss: 0.0512 - val_last_time_step_mse: 0.0461\n",
      "Epoch 4/20\n",
      "219/219 [==============================] - 1s 6ms/step - loss: 0.0506 - last_time_step_mse: 0.0479 - val_loss: 0.0508 - val_last_time_step_mse: 0.0452\n",
      "Epoch 5/20\n",
      "219/219 [==============================] - 1s 6ms/step - loss: 0.0499 - last_time_step_mse: 0.0472 - val_loss: 0.0500 - val_last_time_step_mse: 0.0451\n",
      "Epoch 6/20\n",
      "219/219 [==============================] - 1s 6ms/step - loss: 0.0494 - last_time_step_mse: 0.0467 - val_loss: 0.0493 - val_last_time_step_mse: 0.0440\n",
      "Epoch 7/20\n",
      "219/219 [==============================] - 1s 6ms/step - loss: 0.0489 - last_time_step_mse: 0.0462 - val_loss: 0.0489 - val_last_time_step_mse: 0.0439\n",
      "Epoch 8/20\n",
      "219/219 [==============================] - 1s 6ms/step - loss: 0.0485 - last_time_step_mse: 0.0457 - val_loss: 0.0486 - val_last_time_step_mse: 0.0433\n",
      "Epoch 9/20\n",
      "219/219 [==============================] - 1s 6ms/step - loss: 0.0482 - last_time_step_mse: 0.0454 - val_loss: 0.0484 - val_last_time_step_mse: 0.0432\n",
      "Epoch 10/20\n",
      "219/219 [==============================] - 1s 6ms/step - loss: 0.0480 - last_time_step_mse: 0.0452 - val_loss: 0.0485 - val_last_time_step_mse: 0.0439\n",
      "Epoch 11/20\n",
      "219/219 [==============================] - 1s 6ms/step - loss: 0.0478 - last_time_step_mse: 0.0450 - val_loss: 0.0481 - val_last_time_step_mse: 0.0429\n",
      "Epoch 12/20\n",
      "219/219 [==============================] - 1s 6ms/step - loss: 0.0477 - last_time_step_mse: 0.0449 - val_loss: 0.0478 - val_last_time_step_mse: 0.0426\n",
      "Epoch 13/20\n",
      "219/219 [==============================] - 1s 6ms/step - loss: 0.0475 - last_time_step_mse: 0.0446 - val_loss: 0.0478 - val_last_time_step_mse: 0.0423\n",
      "Epoch 14/20\n",
      "219/219 [==============================] - 1s 6ms/step - loss: 0.0474 - last_time_step_mse: 0.0446 - val_loss: 0.0476 - val_last_time_step_mse: 0.0428\n",
      "Epoch 15/20\n",
      "219/219 [==============================] - 1s 6ms/step - loss: 0.0472 - last_time_step_mse: 0.0444 - val_loss: 0.0479 - val_last_time_step_mse: 0.0427\n",
      "Epoch 16/20\n",
      "219/219 [==============================] - 1s 6ms/step - loss: 0.0471 - last_time_step_mse: 0.0444 - val_loss: 0.0473 - val_last_time_step_mse: 0.0422\n",
      "Epoch 17/20\n",
      "219/219 [==============================] - 1s 6ms/step - loss: 0.0470 - last_time_step_mse: 0.0442 - val_loss: 0.0474 - val_last_time_step_mse: 0.0428\n",
      "Epoch 18/20\n",
      "219/219 [==============================] - 1s 6ms/step - loss: 0.0469 - last_time_step_mse: 0.0442 - val_loss: 0.0471 - val_last_time_step_mse: 0.0424\n",
      "Epoch 19/20\n",
      "219/219 [==============================] - 1s 6ms/step - loss: 0.0468 - last_time_step_mse: 0.0443 - val_loss: 0.0472 - val_last_time_step_mse: 0.0418\n",
      "Epoch 20/20\n",
      "219/219 [==============================] - 1s 6ms/step - loss: 0.0468 - last_time_step_mse: 0.0442 - val_loss: 0.0473 - val_last_time_step_mse: 0.0421\n",
      "Epoch 1/20\n",
      "219/219 [==============================] - 2s 9ms/step - loss: 0.0695 - last_time_step_mse: 0.0677 - val_loss: 0.0428 - val_last_time_step_mse: 0.0388\n",
      "Epoch 2/20\n",
      "219/219 [==============================] - 2s 8ms/step - loss: 0.0403 - last_time_step_mse: 0.0365 - val_loss: 0.0398 - val_last_time_step_mse: 0.0357\n",
      "Epoch 3/20\n",
      "219/219 [==============================] - 2s 7ms/step - loss: 0.0386 - last_time_step_mse: 0.0348 - val_loss: 0.0389 - val_last_time_step_mse: 0.0348\n",
      "Epoch 4/20\n",
      "219/219 [==============================] - 2s 8ms/step - loss: 0.0378 - last_time_step_mse: 0.0341 - val_loss: 0.0385 - val_last_time_step_mse: 0.0349\n",
      "Epoch 5/20\n",
      "219/219 [==============================] - 2s 8ms/step - loss: 0.0370 - last_time_step_mse: 0.0332 - val_loss: 0.0376 - val_last_time_step_mse: 0.0341\n",
      "Epoch 6/20\n",
      "219/219 [==============================] - 2s 7ms/step - loss: 0.0363 - last_time_step_mse: 0.0325 - val_loss: 0.0367 - val_last_time_step_mse: 0.0332\n",
      "Epoch 7/20\n",
      "219/219 [==============================] - 2s 7ms/step - loss: 0.0358 - last_time_step_mse: 0.0319 - val_loss: 0.0364 - val_last_time_step_mse: 0.0329\n",
      "Epoch 8/20\n",
      "219/219 [==============================] - 2s 8ms/step - loss: 0.0354 - last_time_step_mse: 0.0317 - val_loss: 0.0359 - val_last_time_step_mse: 0.0326\n",
      "Epoch 9/20\n",
      "219/219 [==============================] - 2s 8ms/step - loss: 0.0351 - last_time_step_mse: 0.0314 - val_loss: 0.0355 - val_last_time_step_mse: 0.0325\n",
      "Epoch 10/20\n",
      "219/219 [==============================] - 2s 8ms/step - loss: 0.0349 - last_time_step_mse: 0.0311 - val_loss: 0.0354 - val_last_time_step_mse: 0.0328\n",
      "Epoch 11/20\n"
     ]
    },
    {
     "name": "stdout",
     "output_type": "stream",
     "text": [
      "219/219 [==============================] - 2s 8ms/step - loss: 0.0347 - last_time_step_mse: 0.0308 - val_loss: 0.0353 - val_last_time_step_mse: 0.0326\n",
      "Epoch 12/20\n",
      "219/219 [==============================] - 2s 8ms/step - loss: 0.0342 - last_time_step_mse: 0.0306 - val_loss: 0.0348 - val_last_time_step_mse: 0.0319\n",
      "Epoch 13/20\n",
      "219/219 [==============================] - 2s 8ms/step - loss: 0.0340 - last_time_step_mse: 0.0301 - val_loss: 0.0345 - val_last_time_step_mse: 0.0316\n",
      "Epoch 14/20\n",
      "219/219 [==============================] - 2s 8ms/step - loss: 0.0338 - last_time_step_mse: 0.0300 - val_loss: 0.0344 - val_last_time_step_mse: 0.0316\n",
      "Epoch 15/20\n",
      "219/219 [==============================] - 2s 8ms/step - loss: 0.0336 - last_time_step_mse: 0.0299 - val_loss: 0.0342 - val_last_time_step_mse: 0.0315\n",
      "Epoch 16/20\n",
      "219/219 [==============================] - 2s 8ms/step - loss: 0.0335 - last_time_step_mse: 0.0297 - val_loss: 0.0339 - val_last_time_step_mse: 0.0309\n",
      "Epoch 17/20\n",
      "219/219 [==============================] - 2s 8ms/step - loss: 0.0332 - last_time_step_mse: 0.0295 - val_loss: 0.0340 - val_last_time_step_mse: 0.0310\n",
      "Epoch 18/20\n",
      "219/219 [==============================] - 2s 8ms/step - loss: 0.0331 - last_time_step_mse: 0.0293 - val_loss: 0.0340 - val_last_time_step_mse: 0.0312\n",
      "Epoch 19/20\n",
      "219/219 [==============================] - 2s 8ms/step - loss: 0.0330 - last_time_step_mse: 0.0293 - val_loss: 0.0335 - val_last_time_step_mse: 0.0309\n",
      "Epoch 20/20\n",
      "219/219 [==============================] - 2s 9ms/step - loss: 0.0328 - last_time_step_mse: 0.0291 - val_loss: 0.0337 - val_last_time_step_mse: 0.0308\n",
      "Epoch 1/20\n",
      "219/219 [==============================] - 4s 16ms/step - loss: 0.0620 - last_time_step_mse: 0.0578 - val_loss: 0.0358 - val_last_time_step_mse: 0.0321\n",
      "Epoch 2/20\n",
      "219/219 [==============================] - 2s 10ms/step - loss: 0.0332 - last_time_step_mse: 0.0286 - val_loss: 0.0331 - val_last_time_step_mse: 0.0290\n",
      "Epoch 3/20\n",
      "219/219 [==============================] - 2s 10ms/step - loss: 0.0318 - last_time_step_mse: 0.0270 - val_loss: 0.0325 - val_last_time_step_mse: 0.0283\n",
      "Epoch 4/20\n",
      "219/219 [==============================] - 2s 11ms/step - loss: 0.0312 - last_time_step_mse: 0.0263 - val_loss: 0.0315 - val_last_time_step_mse: 0.0274\n",
      "Epoch 5/20\n",
      "219/219 [==============================] - 2s 11ms/step - loss: 0.0308 - last_time_step_mse: 0.0259 - val_loss: 0.0312 - val_last_time_step_mse: 0.0271\n",
      "Epoch 6/20\n",
      "219/219 [==============================] - 2s 11ms/step - loss: 0.0303 - last_time_step_mse: 0.0254 - val_loss: 0.0307 - val_last_time_step_mse: 0.0267\n",
      "Epoch 7/20\n",
      "219/219 [==============================] - 2s 11ms/step - loss: 0.0302 - last_time_step_mse: 0.0251 - val_loss: 0.0307 - val_last_time_step_mse: 0.0265\n",
      "Epoch 8/20\n",
      "219/219 [==============================] - 2s 11ms/step - loss: 0.0298 - last_time_step_mse: 0.0247 - val_loss: 0.0305 - val_last_time_step_mse: 0.0262\n",
      "Epoch 9/20\n",
      "219/219 [==============================] - 2s 10ms/step - loss: 0.0297 - last_time_step_mse: 0.0245 - val_loss: 0.0303 - val_last_time_step_mse: 0.0257\n",
      "Epoch 10/20\n",
      "219/219 [==============================] - 2s 10ms/step - loss: 0.0295 - last_time_step_mse: 0.0244 - val_loss: 0.0306 - val_last_time_step_mse: 0.0266\n",
      "Epoch 11/20\n",
      "219/219 [==============================] - 2s 10ms/step - loss: 0.0292 - last_time_step_mse: 0.0240 - val_loss: 0.0295 - val_last_time_step_mse: 0.0250\n",
      "Epoch 12/20\n",
      "219/219 [==============================] - 2s 10ms/step - loss: 0.0291 - last_time_step_mse: 0.0238 - val_loss: 0.0292 - val_last_time_step_mse: 0.0250\n",
      "Epoch 13/20\n",
      "219/219 [==============================] - 2s 11ms/step - loss: 0.0287 - last_time_step_mse: 0.0234 - val_loss: 0.0300 - val_last_time_step_mse: 0.0255\n",
      "Epoch 14/20\n",
      "219/219 [==============================] - 2s 11ms/step - loss: 0.0286 - last_time_step_mse: 0.0233 - val_loss: 0.0289 - val_last_time_step_mse: 0.0246\n",
      "Epoch 15/20\n",
      "219/219 [==============================] - 2s 10ms/step - loss: 0.0285 - last_time_step_mse: 0.0233 - val_loss: 0.0291 - val_last_time_step_mse: 0.0246\n",
      "Epoch 16/20\n",
      "219/219 [==============================] - 2s 10ms/step - loss: 0.0283 - last_time_step_mse: 0.0228 - val_loss: 0.0287 - val_last_time_step_mse: 0.0240\n",
      "Epoch 17/20\n",
      "219/219 [==============================] - 2s 10ms/step - loss: 0.0279 - last_time_step_mse: 0.0225 - val_loss: 0.0280 - val_last_time_step_mse: 0.0237\n",
      "Epoch 18/20\n",
      "219/219 [==============================] - 2s 10ms/step - loss: 0.0276 - last_time_step_mse: 0.0221 - val_loss: 0.0278 - val_last_time_step_mse: 0.0236\n",
      "Epoch 19/20\n",
      "219/219 [==============================] - 2s 10ms/step - loss: 0.0274 - last_time_step_mse: 0.0219 - val_loss: 0.0276 - val_last_time_step_mse: 0.0232\n",
      "Epoch 20/20\n",
      "219/219 [==============================] - 2s 11ms/step - loss: 0.0272 - last_time_step_mse: 0.0217 - val_loss: 0.0274 - val_last_time_step_mse: 0.0229\n",
      "Epoch 1/20\n",
      "219/219 [==============================] - 3s 13ms/step - loss: 0.0656 - last_time_step_mse: 0.0610 - val_loss: 0.0341 - val_last_time_step_mse: 0.0296\n",
      "Epoch 2/20\n",
      "219/219 [==============================] - 3s 11ms/step - loss: 0.0303 - last_time_step_mse: 0.0251 - val_loss: 0.0289 - val_last_time_step_mse: 0.0237\n",
      "Epoch 3/20\n",
      "219/219 [==============================] - 3s 12ms/step - loss: 0.0274 - last_time_step_mse: 0.0217 - val_loss: 0.0270 - val_last_time_step_mse: 0.0224\n",
      "Epoch 4/20\n",
      "219/219 [==============================] - 3s 13ms/step - loss: 0.0261 - last_time_step_mse: 0.0204 - val_loss: 0.0278 - val_last_time_step_mse: 0.0237\n",
      "Epoch 5/20\n",
      "219/219 [==============================] - 2s 11ms/step - loss: 0.0253 - last_time_step_mse: 0.0195 - val_loss: 0.0255 - val_last_time_step_mse: 0.0202\n",
      "Epoch 6/20\n",
      "219/219 [==============================] - 3s 12ms/step - loss: 0.0250 - last_time_step_mse: 0.0192 - val_loss: 0.0251 - val_last_time_step_mse: 0.0202\n",
      "Epoch 7/20\n",
      "219/219 [==============================] - 2s 11ms/step - loss: 0.0246 - last_time_step_mse: 0.0187 - val_loss: 0.0250 - val_last_time_step_mse: 0.0202\n",
      "Epoch 8/20\n",
      "219/219 [==============================] - 3s 12ms/step - loss: 0.0244 - last_time_step_mse: 0.0186 - val_loss: 0.0250 - val_last_time_step_mse: 0.0198\n",
      "Epoch 9/20\n",
      "219/219 [==============================] - 2s 11ms/step - loss: 0.0242 - last_time_step_mse: 0.0182 - val_loss: 0.0242 - val_last_time_step_mse: 0.0190\n",
      "Epoch 10/20\n",
      "219/219 [==============================] - 3s 12ms/step - loss: 0.0239 - last_time_step_mse: 0.0180 - val_loss: 0.0241 - val_last_time_step_mse: 0.0192\n",
      "Epoch 11/20\n",
      "219/219 [==============================] - 3s 12ms/step - loss: 0.0239 - last_time_step_mse: 0.0179 - val_loss: 0.0237 - val_last_time_step_mse: 0.0187\n",
      "Epoch 12/20\n",
      "219/219 [==============================] - 3s 11ms/step - loss: 0.0237 - last_time_step_mse: 0.0177 - val_loss: 0.0245 - val_last_time_step_mse: 0.0196\n",
      "Epoch 13/20\n",
      "219/219 [==============================] - 2s 11ms/step - loss: 0.0234 - last_time_step_mse: 0.0173 - val_loss: 0.0237 - val_last_time_step_mse: 0.0185\n",
      "Epoch 14/20\n",
      "219/219 [==============================] - 2s 11ms/step - loss: 0.0233 - last_time_step_mse: 0.0172 - val_loss: 0.0232 - val_last_time_step_mse: 0.0181\n",
      "Epoch 15/20\n",
      "219/219 [==============================] - 3s 12ms/step - loss: 0.0231 - last_time_step_mse: 0.0170 - val_loss: 0.0245 - val_last_time_step_mse: 0.0195\n",
      "Epoch 16/20\n",
      "219/219 [==============================] - 3s 12ms/step - loss: 0.0229 - last_time_step_mse: 0.0169 - val_loss: 0.0230 - val_last_time_step_mse: 0.0177\n",
      "Epoch 17/20\n",
      "219/219 [==============================] - 3s 12ms/step - loss: 0.0228 - last_time_step_mse: 0.0168 - val_loss: 0.0232 - val_last_time_step_mse: 0.0179\n",
      "Epoch 18/20\n",
      "219/219 [==============================] - 3s 12ms/step - loss: 0.0226 - last_time_step_mse: 0.0167 - val_loss: 0.0228 - val_last_time_step_mse: 0.0173\n",
      "Epoch 19/20\n",
      "219/219 [==============================] - 3s 12ms/step - loss: 0.0226 - last_time_step_mse: 0.0166 - val_loss: 0.0228 - val_last_time_step_mse: 0.0171\n",
      "Epoch 20/20\n",
      "219/219 [==============================] - 3s 12ms/step - loss: 0.0225 - last_time_step_mse: 0.0164 - val_loss: 0.0231 - val_last_time_step_mse: 0.0172\n",
      "Epoch 1/20\n"
     ]
    },
    {
     "name": "stdout",
     "output_type": "stream",
     "text": [
      "219/219 [==============================] - 3s 16ms/step - loss: 0.0521 - last_time_step_mse: 0.0459 - val_loss: 0.0241 - val_last_time_step_mse: 0.0175\n",
      "Epoch 2/20\n",
      "219/219 [==============================] - 3s 14ms/step - loss: 0.0223 - last_time_step_mse: 0.0152 - val_loss: 0.0217 - val_last_time_step_mse: 0.0150\n",
      "Epoch 3/20\n",
      "219/219 [==============================] - 3s 14ms/step - loss: 0.0209 - last_time_step_mse: 0.0139 - val_loss: 0.0211 - val_last_time_step_mse: 0.0148\n",
      "Epoch 4/20\n",
      "219/219 [==============================] - 3s 14ms/step - loss: 0.0206 - last_time_step_mse: 0.0138 - val_loss: 0.0204 - val_last_time_step_mse: 0.0140\n",
      "Epoch 5/20\n",
      "219/219 [==============================] - 3s 14ms/step - loss: 0.0200 - last_time_step_mse: 0.0132 - val_loss: 0.0206 - val_last_time_step_mse: 0.0139\n",
      "Epoch 6/20\n",
      "219/219 [==============================] - 3s 15ms/step - loss: 0.0198 - last_time_step_mse: 0.0129 - val_loss: 0.0200 - val_last_time_step_mse: 0.0133\n",
      "Epoch 7/20\n",
      "219/219 [==============================] - 3s 14ms/step - loss: 0.0196 - last_time_step_mse: 0.0128 - val_loss: 0.0195 - val_last_time_step_mse: 0.0129\n",
      "Epoch 8/20\n",
      "219/219 [==============================] - 3s 14ms/step - loss: 0.0193 - last_time_step_mse: 0.0124 - val_loss: 0.0196 - val_last_time_step_mse: 0.0132\n",
      "Epoch 9/20\n",
      "219/219 [==============================] - 3s 14ms/step - loss: 0.0190 - last_time_step_mse: 0.0120 - val_loss: 0.0191 - val_last_time_step_mse: 0.0127\n",
      "Epoch 10/20\n",
      "219/219 [==============================] - 3s 14ms/step - loss: 0.0189 - last_time_step_mse: 0.0118 - val_loss: 0.0188 - val_last_time_step_mse: 0.0124\n",
      "Epoch 11/20\n",
      "219/219 [==============================] - 3s 14ms/step - loss: 0.0187 - last_time_step_mse: 0.0117 - val_loss: 0.0197 - val_last_time_step_mse: 0.0128\n",
      "Epoch 12/20\n",
      "219/219 [==============================] - 3s 13ms/step - loss: 0.0185 - last_time_step_mse: 0.0115 - val_loss: 0.0189 - val_last_time_step_mse: 0.0118\n",
      "Epoch 13/20\n",
      "219/219 [==============================] - 3s 14ms/step - loss: 0.0184 - last_time_step_mse: 0.0114 - val_loss: 0.0184 - val_last_time_step_mse: 0.0118\n",
      "Epoch 14/20\n",
      "219/219 [==============================] - 3s 14ms/step - loss: 0.0184 - last_time_step_mse: 0.0114 - val_loss: 0.0182 - val_last_time_step_mse: 0.0114\n",
      "Epoch 15/20\n",
      "219/219 [==============================] - 3s 13ms/step - loss: 0.0180 - last_time_step_mse: 0.0110 - val_loss: 0.0184 - val_last_time_step_mse: 0.0119\n",
      "Epoch 16/20\n",
      "219/219 [==============================] - 3s 14ms/step - loss: 0.0182 - last_time_step_mse: 0.0110 - val_loss: 0.0180 - val_last_time_step_mse: 0.0114\n",
      "Epoch 17/20\n",
      "219/219 [==============================] - 3s 13ms/step - loss: 0.0180 - last_time_step_mse: 0.0108 - val_loss: 0.0190 - val_last_time_step_mse: 0.0128loss: 0.0180 - last_time_step_mse\n",
      "Epoch 18/20\n",
      "219/219 [==============================] - 3s 14ms/step - loss: 0.0179 - last_time_step_mse: 0.0109 - val_loss: 0.0184 - val_last_time_step_mse: 0.0114\n",
      "Epoch 19/20\n",
      "219/219 [==============================] - 3s 14ms/step - loss: 0.0178 - last_time_step_mse: 0.0108 - val_loss: 0.0182 - val_last_time_step_mse: 0.0118\n",
      "Epoch 20/20\n",
      "219/219 [==============================] - 3s 14ms/step - loss: 0.0177 - last_time_step_mse: 0.0106 - val_loss: 0.0180 - val_last_time_step_mse: 0.0113\n",
      "Epoch 1/20\n",
      "219/219 [==============================] - 4s 18ms/step - loss: 0.0574 - last_time_step_mse: 0.0486 - val_loss: 0.0207 - val_last_time_step_mse: 0.0118\n",
      "Epoch 2/20\n",
      "219/219 [==============================] - 4s 16ms/step - loss: 0.0192 - last_time_step_mse: 0.0106 - val_loss: 0.0187 - val_last_time_step_mse: 0.0101\n",
      "Epoch 3/20\n",
      "219/219 [==============================] - 4s 16ms/step - loss: 0.0178 - last_time_step_mse: 0.0094 - val_loss: 0.0176 - val_last_time_step_mse: 0.0091\n",
      "Epoch 4/20\n",
      "219/219 [==============================] - 4s 18ms/step - loss: 0.0171 - last_time_step_mse: 0.0090 - val_loss: 0.0171 - val_last_time_step_mse: 0.0089\n",
      "Epoch 5/20\n",
      "219/219 [==============================] - 3s 16ms/step - loss: 0.0166 - last_time_step_mse: 0.0086 - val_loss: 0.0164 - val_last_time_step_mse: 0.0081\n",
      "Epoch 6/20\n",
      "219/219 [==============================] - 4s 16ms/step - loss: 0.0162 - last_time_step_mse: 0.0083 - val_loss: 0.0162 - val_last_time_step_mse: 0.0080\n",
      "Epoch 7/20\n",
      "219/219 [==============================] - 4s 18ms/step - loss: 0.0161 - last_time_step_mse: 0.0080 - val_loss: 0.0164 - val_last_time_step_mse: 0.0082\n",
      "Epoch 8/20\n",
      "219/219 [==============================] - 4s 16ms/step - loss: 0.0160 - last_time_step_mse: 0.0080 - val_loss: 0.0161 - val_last_time_step_mse: 0.0079\n",
      "Epoch 9/20\n",
      "219/219 [==============================] - 4s 17ms/step - loss: 0.0158 - last_time_step_mse: 0.0078 - val_loss: 0.0162 - val_last_time_step_mse: 0.0082\n",
      "Epoch 10/20\n",
      "219/219 [==============================] - 4s 16ms/step - loss: 0.0159 - last_time_step_mse: 0.0079 - val_loss: 0.0161 - val_last_time_step_mse: 0.0079\n",
      "Epoch 11/20\n",
      "219/219 [==============================] - 3s 16ms/step - loss: 0.0157 - last_time_step_mse: 0.0077 - val_loss: 0.0162 - val_last_time_step_mse: 0.0083\n",
      "Epoch 12/20\n",
      "219/219 [==============================] - 4s 16ms/step - loss: 0.0156 - last_time_step_mse: 0.0076 - val_loss: 0.0158 - val_last_time_step_mse: 0.0076\n",
      "Epoch 13/20\n",
      "219/219 [==============================] - 4s 16ms/step - loss: 0.0155 - last_time_step_mse: 0.0074 - val_loss: 0.0155 - val_last_time_step_mse: 0.0072\n",
      "Epoch 14/20\n",
      "219/219 [==============================] - 3s 16ms/step - loss: 0.0155 - last_time_step_mse: 0.0075 - val_loss: 0.0156 - val_last_time_step_mse: 0.0075\n",
      "Epoch 15/20\n",
      "219/219 [==============================] - 4s 16ms/step - loss: 0.0154 - last_time_step_mse: 0.0074 - val_loss: 0.0156 - val_last_time_step_mse: 0.0074\n",
      "Epoch 16/20\n",
      "219/219 [==============================] - 4s 17ms/step - loss: 0.0155 - last_time_step_mse: 0.0075 - val_loss: 0.0157 - val_last_time_step_mse: 0.0076\n",
      "Epoch 17/20\n",
      "219/219 [==============================] - 4s 17ms/step - loss: 0.0153 - last_time_step_mse: 0.0073 - val_loss: 0.0154 - val_last_time_step_mse: 0.0072\n",
      "Epoch 18/20\n",
      "219/219 [==============================] - 4s 16ms/step - loss: 0.0153 - last_time_step_mse: 0.0073 - val_loss: 0.0158 - val_last_time_step_mse: 0.0074\n",
      "Epoch 19/20\n",
      "219/219 [==============================] - 3s 16ms/step - loss: 0.0152 - last_time_step_mse: 0.0072 - val_loss: 0.0152 - val_last_time_step_mse: 0.0069\n",
      "Epoch 20/20\n",
      "219/219 [==============================] - 4s 17ms/step - loss: 0.0151 - last_time_step_mse: 0.0072 - val_loss: 0.0152 - val_last_time_step_mse: 0.0069\n",
      "Epoch 1/20\n",
      "219/219 [==============================] - 4s 20ms/step - loss: 0.0410 - last_time_step_mse: 0.0328 - val_loss: 0.0172 - val_last_time_step_mse: 0.0082\n",
      "Epoch 2/20\n",
      "219/219 [==============================] - 4s 18ms/step - loss: 0.0161 - last_time_step_mse: 0.0075 - val_loss: 0.0164 - val_last_time_step_mse: 0.0077\n",
      "Epoch 3/20\n",
      "219/219 [==============================] - 4s 18ms/step - loss: 0.0155 - last_time_step_mse: 0.0070 - val_loss: 0.0158 - val_last_time_step_mse: 0.0074\n",
      "Epoch 4/20\n",
      "219/219 [==============================] - 4s 20ms/step - loss: 0.0152 - last_time_step_mse: 0.0067 - val_loss: 0.0153 - val_last_time_step_mse: 0.0066\n",
      "Epoch 5/20\n",
      "219/219 [==============================] - 4s 18ms/step - loss: 0.0149 - last_time_step_mse: 0.0065 - val_loss: 0.0158 - val_last_time_step_mse: 0.0071\n",
      "Epoch 6/20\n",
      "219/219 [==============================] - 4s 18ms/step - loss: 0.0149 - last_time_step_mse: 0.0065 - val_loss: 0.0153 - val_last_time_step_mse: 0.0068\n",
      "Epoch 7/20\n",
      "219/219 [==============================] - 4s 18ms/step - loss: 0.0148 - last_time_step_mse: 0.0064 - val_loss: 0.0151 - val_last_time_step_mse: 0.0063\n",
      "Epoch 8/20\n",
      "219/219 [==============================] - 4s 20ms/step - loss: 0.0146 - last_time_step_mse: 0.0061 - val_loss: 0.0147 - val_last_time_step_mse: 0.0060\n",
      "Epoch 9/20\n",
      "219/219 [==============================] - 4s 19ms/step - loss: 0.0146 - last_time_step_mse: 0.0062 - val_loss: 0.0148 - val_last_time_step_mse: 0.0062\n",
      "Epoch 10/20\n",
      "219/219 [==============================] - 4s 19ms/step - loss: 0.0145 - last_time_step_mse: 0.0060 - val_loss: 0.0146 - val_last_time_step_mse: 0.0060\n"
     ]
    },
    {
     "name": "stdout",
     "output_type": "stream",
     "text": [
      "Epoch 11/20\n",
      "219/219 [==============================] - 4s 19ms/step - loss: 0.0144 - last_time_step_mse: 0.0060 - val_loss: 0.0148 - val_last_time_step_mse: 0.0060\n",
      "Epoch 12/20\n",
      "219/219 [==============================] - 4s 19ms/step - loss: 0.0143 - last_time_step_mse: 0.0059 - val_loss: 0.0144 - val_last_time_step_mse: 0.0055\n",
      "Epoch 13/20\n",
      "219/219 [==============================] - 4s 18ms/step - loss: 0.0144 - last_time_step_mse: 0.0059 - val_loss: 0.0145 - val_last_time_step_mse: 0.0058\n",
      "Epoch 14/20\n",
      "219/219 [==============================] - 4s 20ms/step - loss: 0.0142 - last_time_step_mse: 0.0058 - val_loss: 0.0143 - val_last_time_step_mse: 0.0055\n",
      "Epoch 15/20\n",
      "219/219 [==============================] - 4s 19ms/step - loss: 0.0141 - last_time_step_mse: 0.0057 - val_loss: 0.0143 - val_last_time_step_mse: 0.0056\n",
      "Epoch 16/20\n",
      "219/219 [==============================] - 4s 19ms/step - loss: 0.0141 - last_time_step_mse: 0.0056 - val_loss: 0.0144 - val_last_time_step_mse: 0.0058\n",
      "Epoch 17/20\n",
      "219/219 [==============================] - 4s 19ms/step - loss: 0.0141 - last_time_step_mse: 0.0056 - val_loss: 0.0150 - val_last_time_step_mse: 0.0062\n",
      "Epoch 18/20\n",
      "219/219 [==============================] - 4s 19ms/step - loss: 0.0141 - last_time_step_mse: 0.0056 - val_loss: 0.0142 - val_last_time_step_mse: 0.0053\n",
      "Epoch 19/20\n",
      "219/219 [==============================] - 4s 19ms/step - loss: 0.0139 - last_time_step_mse: 0.0055 - val_loss: 0.0140 - val_last_time_step_mse: 0.0053\n",
      "Epoch 20/20\n",
      "219/219 [==============================] - 4s 19ms/step - loss: 0.0141 - last_time_step_mse: 0.0057 - val_loss: 0.0143 - val_last_time_step_mse: 0.0058\n"
     ]
    }
   ],
   "source": [
    "model = keras.models.Sequential()\n",
    "model.add(keras.layers.InputLayer(input_shape=[None, 1]))\n",
    "for rate in (1, 2, 4, 8) * 2:\n",
    "    model.add(keras.layers.Conv1D(filters = 20, kernel_size = 2, padding = \"causal\", activation = \"relu\", dilation_rate = rate))\n",
    "    model.add(keras.layers.Conv1D(filters = 10, kernel_size = 1))\n",
    "    model.compile(loss = \"mse\", optimizer = \"adam\", metrics = [last_time_step_mse])\n",
    "    history = model.fit(X_train, Y_train, epochs = 20, validation_data = (X_valid, Y_valid))"
   ]
  },
  {
   "cell_type": "code",
   "execution_count": 27,
   "metadata": {},
   "outputs": [
    {
     "name": "stdout",
     "output_type": "stream",
     "text": [
      "63/63 [==============================] - 0s 5ms/step - loss: 0.0143 - last_time_step_mse: 0.0058\n"
     ]
    },
    {
     "data": {
      "text/plain": [
       "[0.014327483251690865, 0.00575402844697237]"
      ]
     },
     "execution_count": 27,
     "metadata": {},
     "output_type": "execute_result"
    }
   ],
   "source": [
    "model.evaluate(X_valid, Y_valid)"
   ]
  },
  {
   "cell_type": "code",
   "execution_count": 28,
   "metadata": {},
   "outputs": [
    {
     "data": {
      "image/png": "[encoded data removed]",
      "text/plain": [
       "<Figure size 432x288 with 1 Axes>"
      ]
     },
     "metadata": {
      "needs_background": "light"
     },
     "output_type": "display_data"
    }
   ],
   "source": [
    "plot_learning_curves(history.history[\"loss\"], history.history[\"val_loss\"])\n",
    "plt.show()"
   ]
  },
  {
   "cell_type": "code",
   "execution_count": 29,
   "metadata": {},
   "outputs": [
    {
     "data": {
      "image/png": "[encoded data removed]",
      "text/plain": [
       "<Figure size 432x288 with 1 Axes>"
      ]
     },
     "metadata": {
      "needs_background": "light"
     },
     "output_type": "display_data"
    }
   ],
   "source": [
    "Y_pred = model.predict(X_new)[:, -1][..., np.newaxis]\n",
    "plot_multiple_forecasts(X_new, Y_new, Y_pred)\n",
    "plt.show()"
   ]
  },
  {
   "cell_type": "markdown",
   "metadata": {},
   "source": [
    "<p>The original WaveNet uses Gated Activation Units instead of ReLU along with parameterized skip connections, so we'll give those a shot </p>"
   ]
  },
  {
   "cell_type": "code",
   "execution_count": 35,
   "metadata": {},
   "outputs": [],
   "source": [
    "class GatedActivationUnit(keras.layers.Layer):\n",
    "    def __init__(self, activation=\"tanh\", **kwargs):\n",
    "        super().__init__(**kwargs)\n",
    "        self.activation = keras.activations.get(activation)\n",
    "    def call(self, inputs):\n",
    "        n_filters = inputs.shape[-1]//2\n",
    "        linear_output = self.activation(inputs[..., :n_filters])\n",
    "        gate = keras.activations.sigmoid(inputs[..., n_filters:])\n",
    "        return self.activation(linear_output) * gate"
   ]
  },
  {
   "cell_type": "code",
   "execution_count": 36,
   "metadata": {},
   "outputs": [],
   "source": [
    "def waveNet_residual_block(inputs, n_filters, dilation_rate):\n",
    "    z = keras.layers.Conv1D(2 * n_filters, kernel_size = 2, padding = \"causal\", \n",
    "                           dilation_rate = dilation_rate)(inputs)\n",
    "    z = GatedActivationUnit()(z)\n",
    "    z = keras.layers.Conv1D(n_filters, kernel_size = 1)(z)\n",
    "    return keras.layers.Add()([z, inputs]), z"
   ]
  },
  {
   "cell_type": "code",
   "execution_count": 37,
   "metadata": {},
   "outputs": [],
   "source": [
    "n_layers_per_block = 3\n",
    "n_blocks = 1\n",
    "n_filters = 32\n",
    "n_outputs = 10\n",
    "\n",
    "inputs = keras.layers.Input(shape = [None, 1])\n",
    "z = keras.layers.Conv1D(n_filters, kernel_size = 2, padding = \"causal\")(inputs)\n",
    "skip_to_last = []\n",
    "for dilation_rate in [2**i for i in range(n_layers_per_block)] * n_blocks:\n",
    "    z, skip = waveNet_residual_block(z, n_filters, dilation_rate)\n",
    "    skip_to_last.append(skip)\n",
    "z = keras.activations.relu(keras.layers.Add()(skip_to_last))\n",
    "z = keras.layers.Conv1D(n_filters, kernel_size=1, activation=\"relu\")(z)\n",
    "Y_proba = keras.layers.Conv1D(n_outputs, kernel_size=1, activation=\"softmax\")(z)\n",
    "\n",
    "model = keras.models.Model(inputs=[inputs], outputs=[Y_proba])"
   ]
  },
  {
   "cell_type": "code",
   "execution_count": 46,
   "metadata": {
    "scrolled": true
   },
   "outputs": [
    {
     "name": "stdout",
     "output_type": "stream",
     "text": [
      "Epoch 1/20\n",
      "219/219 [==============================] - 5s 25ms/step - loss: 0.1247 - last_time_step_mse: 0.1182 - val_loss: 0.1244 - val_last_time_step_mse: 0.1191\n",
      "Epoch 2/20\n",
      "219/219 [==============================] - 5s 22ms/step - loss: 0.1247 - last_time_step_mse: 0.1182 - val_loss: 0.1245 - val_last_time_step_mse: 0.1192\n",
      "Epoch 3/20\n",
      "219/219 [==============================] - 5s 22ms/step - loss: 0.1247 - last_time_step_mse: 0.1182 - val_loss: 0.1244 - val_last_time_step_mse: 0.1191\n",
      "Epoch 4/20\n",
      "219/219 [==============================] - 5s 24ms/step - loss: 0.1247 - last_time_step_mse: 0.1182 - val_loss: 0.1244 - val_last_time_step_mse: 0.1190\n",
      "Epoch 5/20\n",
      "219/219 [==============================] - 5s 22ms/step - loss: 0.1246 - last_time_step_mse: 0.1182 - val_loss: 0.1243 - val_last_time_step_mse: 0.1190\n",
      "Epoch 6/20\n",
      "219/219 [==============================] - 5s 24ms/step - loss: 0.1246 - last_time_step_mse: 0.1182 - val_loss: 0.1244 - val_last_time_step_mse: 0.1190\n",
      "Epoch 7/20\n",
      "219/219 [==============================] - 5s 22ms/step - loss: 0.1246 - last_time_step_mse: 0.1181 - val_loss: 0.1243 - val_last_time_step_mse: 0.1190\n",
      "Epoch 8/20\n",
      "219/219 [==============================] - 5s 22ms/step - loss: 0.1246 - last_time_step_mse: 0.1181 - val_loss: 0.1243 - val_last_time_step_mse: 0.1190\n",
      "Epoch 9/20\n",
      "219/219 [==============================] - 4s 21ms/step - loss: 0.1246 - last_time_step_mse: 0.1181 - val_loss: 0.1243 - val_last_time_step_mse: 0.1190\n",
      "Epoch 10/20\n",
      "219/219 [==============================] - 4s 20ms/step - loss: 0.1246 - last_time_step_mse: 0.1181 - val_loss: 0.1243 - val_last_time_step_mse: 0.1190\n",
      "Epoch 11/20\n",
      "219/219 [==============================] - 5s 22ms/step - loss: 0.1246 - last_time_step_mse: 0.1181 - val_loss: 0.1243 - val_last_time_step_mse: 0.1191\n",
      "Epoch 12/20\n",
      "219/219 [==============================] - 5s 22ms/step - loss: 0.1246 - last_time_step_mse: 0.1181 - val_loss: 0.1243 - val_last_time_step_mse: 0.1190\n",
      "Epoch 13/20\n",
      "219/219 [==============================] - 5s 21ms/step - loss: 0.1246 - last_time_step_mse: 0.1181 - val_loss: 0.1243 - val_last_time_step_mse: 0.1190\n",
      "Epoch 14/20\n",
      "219/219 [==============================] - 5s 21ms/step - loss: 0.1245 - last_time_step_mse: 0.1181 - val_loss: 0.1243 - val_last_time_step_mse: 0.1190\n",
      "Epoch 15/20\n",
      "219/219 [==============================] - 5s 21ms/step - loss: 0.1245 - last_time_step_mse: 0.1181 - val_loss: 0.1243 - val_last_time_step_mse: 0.1190\n",
      "Epoch 16/20\n",
      "219/219 [==============================] - 5s 21ms/step - loss: 0.1245 - last_time_step_mse: 0.1181 - val_loss: 0.1243 - val_last_time_step_mse: 0.1190\n",
      "Epoch 17/20\n",
      "219/219 [==============================] - 5s 21ms/step - loss: 0.1245 - last_time_step_mse: 0.1180 - val_loss: 0.1243 - val_last_time_step_mse: 0.1190\n",
      "Epoch 18/20\n",
      "219/219 [==============================] - 5s 23ms/step - loss: 0.1245 - last_time_step_mse: 0.1180 - val_loss: 0.1243 - val_last_time_step_mse: 0.1190\n",
      "Epoch 19/20\n",
      "219/219 [==============================] - 5s 22ms/step - loss: 0.1245 - last_time_step_mse: 0.1180 - val_loss: 0.1242 - val_last_time_step_mse: 0.1190\n",
      "Epoch 20/20\n",
      "219/219 [==============================] - 5s 21ms/step - loss: 0.1245 - last_time_step_mse: 0.1180 - val_loss: 0.1242 - val_last_time_step_mse: 0.1190\n"
     ]
    }
   ],
   "source": [
    "model.compile(loss=\"mse\", optimizer=\"adam\", metrics=[last_time_step_mse])\n",
    "history = model.fit(X_train, Y_train, epochs=20, validation_data=(X_valid, Y_valid))"
   ]
  },
  {
   "cell_type": "code",
   "execution_count": 47,
   "metadata": {},
   "outputs": [
    {
     "name": "stdout",
     "output_type": "stream",
     "text": [
      "63/63 [==============================] - 0s 6ms/step - loss: 0.1242 - last_time_step_mse: 0.1190\n"
     ]
    },
    {
     "data": {
      "text/plain": [
       "[0.12423694133758545, 0.11896833777427673]"
      ]
     },
     "execution_count": 47,
     "metadata": {},
     "output_type": "execute_result"
    }
   ],
   "source": [
    "model.evaluate(X_valid, Y_valid)"
   ]
  },
  {
   "cell_type": "code",
   "execution_count": 48,
   "metadata": {},
   "outputs": [
    {
     "data": {
      "image/png": "[encoded data removed]",
      "text/plain": [
       "<Figure size 432x288 with 1 Axes>"
      ]
     },
     "metadata": {
      "needs_background": "light"
     },
     "output_type": "display_data"
    }
   ],
   "source": [
    "plot_learning_curves(history.history[\"loss\"], history.history[\"val_loss\"])\n",
    "plt.show()"
   ]
  },
  {
   "cell_type": "code",
   "execution_count": 49,
   "metadata": {},
   "outputs": [
    {
     "data": {
      "image/png": "[encoded data removed]",
      "text/plain": [
       "<Figure size 432x288 with 1 Axes>"
      ]
     },
     "metadata": {
      "needs_background": "light"
     },
     "output_type": "display_data"
    }
   ],
   "source": [
    "Y_pred = model.predict(X_new)[:, -1][..., np.newaxis]\n",
    "plot_multiple_forecasts(X_new, Y_new, Y_pred)\n",
    "plt.show()"
   ]
  },
  {
   "cell_type": "code",
   "execution_count": null,
   "metadata": {},
   "outputs": [],
   "source": []
  }
 ],
 "metadata": {
  "kernelspec": {
   "display_name": "Python 3",
   "language": "python",
   "name": "python3"
  },
  "language_info": {
   "codemirror_mode": {
    "name": "ipython",
    "version": 3
   },
   "file_extension": ".py",
   "mimetype": "text/x-python",
   "name": "python",
   "nbconvert_exporter": "python",
   "pygments_lexer": "ipython3",
   "version": "3.7.7"
  }
 },
 "nbformat": 4,
 "nbformat_minor": 4
}
