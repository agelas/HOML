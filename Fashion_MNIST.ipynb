{
 "cells": [
  {
   "cell_type": "code",
   "execution_count": 35,
   "metadata": {},
   "outputs": [],
   "source": [
    "import numpy as np\n",
    "import tensorflow as tf\n",
    "from tensorflow import keras\n",
    "from tensorflow.keras import layers"
   ]
  },
  {
   "cell_type": "code",
   "execution_count": 49,
   "metadata": {},
   "outputs": [],
   "source": [
    "fashion_mnist = keras.datasets.fashion_mnist\n",
    "(X_train_full, y_train_full), (X_test,y_test) = fashion_mnist.load_data()"
   ]
  },
  {
   "cell_type": "code",
   "execution_count": 79,
   "metadata": {},
   "outputs": [
    {
     "data": {
      "text/plain": [
       "array([[0.        , 0.        , 0.        , 0.        , 0.        ,\n",
       "        0.        , 0.        , 0.        , 0.        , 0.        ,\n",
       "        0.        , 0.        , 0.        , 0.        , 0.        ,\n",
       "        0.        , 0.        , 0.        , 0.        , 0.        ,\n",
       "        0.        , 0.        , 0.        , 0.        , 0.        ,\n",
       "        0.        , 0.        , 0.        ],\n",
       "       [0.        , 0.        , 0.        , 0.        , 0.        ,\n",
       "        0.        , 0.        , 0.        , 0.        , 0.        ,\n",
       "        0.        , 0.        , 0.        , 0.        , 0.        ,\n",
       "        0.        , 0.        , 0.        , 0.        , 0.        ,\n",
       "        0.        , 0.        , 0.        , 0.        , 0.        ,\n",
       "        0.        , 0.        , 0.        ],\n",
       "       [0.        , 0.        , 0.        , 0.        , 0.        ,\n",
       "        0.        , 0.        , 0.        , 0.        , 0.        ,\n",
       "        0.        , 0.        , 0.        , 0.        , 0.        ,\n",
       "        0.        , 0.        , 0.        , 0.        , 0.        ,\n",
       "        0.        , 0.        , 0.        , 0.        , 0.        ,\n",
       "        0.        , 0.        , 0.        ],\n",
       "       [0.        , 0.        , 0.        , 0.        , 0.        ,\n",
       "        0.        , 0.        , 0.        , 0.        , 0.        ,\n",
       "        0.        , 0.        , 0.        , 0.        , 0.        ,\n",
       "        0.        , 0.        , 0.        , 0.        , 0.        ,\n",
       "        0.        , 0.        , 0.        , 0.        , 0.        ,\n",
       "        0.        , 0.        , 0.        ],\n",
       "       [0.        , 0.        , 0.        , 0.        , 0.        ,\n",
       "        0.        , 0.        , 0.        , 0.        , 0.        ,\n",
       "        0.        , 0.        , 0.00392157, 0.        , 0.05882353,\n",
       "        0.0627451 , 0.08627451, 0.2       , 0.22352941, 0.24313725,\n",
       "        0.21568627, 0.15294118, 0.06666667, 0.07843137, 0.        ,\n",
       "        0.        , 0.08235294, 0.18823529],\n",
       "       [0.        , 0.        , 0.        , 0.        , 0.        ,\n",
       "        0.        , 0.        , 0.        , 0.        , 0.        ,\n",
       "        0.        , 0.        , 0.        , 0.        , 0.67843137,\n",
       "        0.81176471, 0.81176471, 0.85882353, 0.87843137, 0.97254902,\n",
       "        0.90980392, 0.90196078, 0.82352941, 0.88627451, 0.76470588,\n",
       "        0.56078431, 0.2627451 , 0.61960784],\n",
       "       [0.        , 0.        , 0.        , 0.        , 0.        ,\n",
       "        0.        , 0.        , 0.        , 0.        , 0.        ,\n",
       "        0.        , 0.        , 0.01960784, 0.        , 0.46666667,\n",
       "        0.84705882, 0.81176471, 0.82352941, 0.84705882, 0.79607843,\n",
       "        0.80392157, 0.85882353, 0.8627451 , 0.86666667, 0.88235294,\n",
       "        0.84705882, 0.6       , 0.16078431],\n",
       "       [0.        , 0.        , 0.        , 0.        , 0.        ,\n",
       "        0.        , 0.        , 0.        , 0.        , 0.        ,\n",
       "        0.        , 0.        , 0.02352941, 0.        , 0.32941176,\n",
       "        0.81568627, 0.78039216, 0.80784314, 0.83921569, 0.80392157,\n",
       "        0.85490196, 0.88627451, 0.86666667, 0.89411765, 0.87058824,\n",
       "        0.9372549 , 0.5254902 , 0.        ],\n",
       "       [0.        , 0.        , 0.        , 0.        , 0.        ,\n",
       "        0.        , 0.        , 0.        , 0.        , 0.        ,\n",
       "        0.        , 0.        , 0.02352941, 0.        , 0.18823529,\n",
       "        0.80784314, 0.75686275, 0.81960784, 0.85490196, 0.76862745,\n",
       "        0.78431373, 0.8627451 , 0.88235294, 0.88627451, 0.90980392,\n",
       "        0.82745098, 0.        , 0.        ],\n",
       "       [0.        , 0.        , 0.        , 0.        , 0.        ,\n",
       "        0.        , 0.        , 0.        , 0.        , 0.        ,\n",
       "        0.        , 0.        , 0.02745098, 0.        , 0.18823529,\n",
       "        0.78039216, 0.74901961, 0.81568627, 0.85490196, 0.76862745,\n",
       "        0.84705882, 0.85882353, 0.88627451, 0.88235294, 0.92941176,\n",
       "        0.89019608, 0.        , 0.        ],\n",
       "       [0.        , 0.        , 0.        , 0.        , 0.        ,\n",
       "        0.        , 0.        , 0.        , 0.        , 0.        ,\n",
       "        0.        , 0.        , 0.01176471, 0.        , 0.19215686,\n",
       "        0.78039216, 0.77254902, 0.80392157, 0.74901961, 0.78039216,\n",
       "        0.9372549 , 0.87058824, 0.89803922, 0.87843137, 0.91764706,\n",
       "        0.82745098, 0.        , 0.        ],\n",
       "       [0.        , 0.        , 0.        , 0.        , 0.        ,\n",
       "        0.        , 0.        , 0.        , 0.        , 0.        ,\n",
       "        0.        , 0.        , 0.00784314, 0.        , 0.21960784,\n",
       "        0.82745098, 0.67843137, 0.66666667, 0.69411765, 0.83137255,\n",
       "        0.89803922, 0.90196078, 0.89019608, 0.8745098 , 0.88235294,\n",
       "        0.87058824, 0.        , 0.        ],\n",
       "       [0.00392157, 0.        , 0.        , 0.        , 0.        ,\n",
       "        0.        , 0.        , 0.        , 0.01568627, 0.        ,\n",
       "        0.        , 0.01960784, 0.        , 0.        , 0.62352941,\n",
       "        0.75686275, 0.58823529, 0.69803922, 0.76862745, 0.8745098 ,\n",
       "        0.91372549, 0.92941176, 0.90196078, 0.90196078, 0.89019608,\n",
       "        0.8627451 , 0.01960784, 0.        ],\n",
       "       [0.00392157, 0.        , 0.        , 0.        , 0.        ,\n",
       "        0.        , 0.        , 0.        , 0.        , 0.        ,\n",
       "        0.01960784, 0.        , 0.        , 0.35294118, 0.93333333,\n",
       "        0.62745098, 0.74509804, 0.81568627, 0.80392157, 0.8627451 ,\n",
       "        0.88235294, 0.86666667, 0.90196078, 0.88627451, 0.88235294,\n",
       "        0.9372549 , 0.1372549 , 0.        ],\n",
       "       [0.        , 0.        , 0.00392157, 0.00392157, 0.00784314,\n",
       "        0.00392157, 0.00784314, 0.01176471, 0.01568627, 0.00784314,\n",
       "        0.        , 0.        , 0.38039216, 0.88627451, 0.64705882,\n",
       "        0.78039216, 0.79215686, 0.83921569, 0.8       , 0.88235294,\n",
       "        0.89019608, 0.87843137, 0.90588235, 0.89411765, 0.8745098 ,\n",
       "        0.94901961, 0.30588235, 0.        ],\n",
       "       [0.        , 0.01176471, 0.        , 0.        , 0.        ,\n",
       "        0.        , 0.        , 0.        , 0.        , 0.        ,\n",
       "        0.14901961, 0.5372549 , 0.84313725, 0.63921569, 0.76470588,\n",
       "        0.82745098, 0.82745098, 0.83529412, 0.81568627, 0.96078431,\n",
       "        0.96470588, 0.95294118, 0.94901961, 0.93333333, 0.88627451,\n",
       "        0.9372549 , 0.49803922, 0.        ],\n",
       "       [0.01176471, 0.        , 0.        , 0.        , 0.        ,\n",
       "        0.        , 0.        , 0.01960784, 0.2       , 0.5372549 ,\n",
       "        0.58039216, 0.43137255, 0.59607843, 0.52941176, 0.68627451,\n",
       "        0.69411765, 0.76470588, 0.82745098, 0.81568627, 0.94509804,\n",
       "        0.92156863, 0.91764706, 0.90980392, 0.87843137, 0.8627451 ,\n",
       "        0.93333333, 0.63137255, 0.        ],\n",
       "       [0.        , 0.09019608, 0.56470588, 0.76078431, 0.76078431,\n",
       "        0.65882353, 0.64705882, 0.68627451, 0.64313725, 0.43921569,\n",
       "        0.16862745, 0.31372549, 0.67058824, 0.55294118, 0.70196078,\n",
       "        0.79607843, 0.85490196, 0.84705882, 0.81176471, 0.85490196,\n",
       "        0.8745098 , 0.87843137, 0.9254902 , 0.91372549, 0.8745098 ,\n",
       "        0.9372549 , 0.69803922, 0.        ],\n",
       "       [0.        , 0.54901961, 0.51764706, 0.32941176, 0.52156863,\n",
       "        0.62352941, 0.56862745, 0.52941176, 0.44313725, 0.36078431,\n",
       "        0.40784314, 0.54117647, 0.64705882, 0.82352941, 0.85098039,\n",
       "        0.87058824, 0.86666667, 0.78039216, 0.83137255, 0.88627451,\n",
       "        0.89803922, 0.83921569, 0.90980392, 0.90980392, 0.88235294,\n",
       "        0.9254902 , 0.68235294, 0.        ],\n",
       "       [0.16470588, 0.65098039, 0.78039216, 0.67058824, 0.57254902,\n",
       "        0.57254902, 0.55294118, 0.4627451 , 0.42745098, 0.43529412,\n",
       "        0.59215686, 0.68235294, 0.67058824, 0.78823529, 0.8627451 ,\n",
       "        0.84313725, 0.83137255, 0.8       , 0.93333333, 0.97254902,\n",
       "        0.97254902, 1.        , 1.        , 0.95294118, 0.93333333,\n",
       "        0.95686275, 0.7372549 , 0.        ],\n",
       "       [0.41960784, 0.42352941, 0.48235294, 0.58431373, 0.68627451,\n",
       "        0.76470588, 0.80392157, 0.78431373, 0.75686275, 0.79215686,\n",
       "        0.83137255, 0.86666667, 0.88627451, 0.81568627, 0.8745098 ,\n",
       "        0.84313725, 0.78823529, 0.8       , 0.8745098 , 0.78039216,\n",
       "        0.6745098 , 0.60784314, 0.54117647, 0.49803922, 0.45490196,\n",
       "        0.50588235, 0.48235294, 0.03529412],\n",
       "       [0.00784314, 0.23137255, 0.38431373, 0.41960784, 0.41176471,\n",
       "        0.44705882, 0.49411765, 0.54117647, 0.58039216, 0.64705882,\n",
       "        0.70196078, 0.70196078, 0.68235294, 0.65098039, 0.58431373,\n",
       "        0.56078431, 0.51372549, 0.43921569, 0.37254902, 0.36078431,\n",
       "        0.38039216, 0.39215686, 0.44313725, 0.43921569, 0.45098039,\n",
       "        0.44313725, 0.57647059, 0.09411765],\n",
       "       [0.        , 0.        , 0.        , 0.02745098, 0.12941176,\n",
       "        0.22745098, 0.36862745, 0.42352941, 0.45098039, 0.45882353,\n",
       "        0.46666667, 0.44313725, 0.44705882, 0.45098039, 0.41568627,\n",
       "        0.34901961, 0.18039216, 0.00392157, 0.38039216, 0.81960784,\n",
       "        0.74117647, 0.74901961, 0.72941176, 0.71764706, 0.70980392,\n",
       "        0.60784314, 0.69411765, 0.06666667],\n",
       "       [0.00784314, 0.00784314, 0.00392157, 0.        , 0.        ,\n",
       "        0.        , 0.        , 0.        , 0.        , 0.04705882,\n",
       "        0.05098039, 0.07058824, 0.07843137, 0.        , 0.        ,\n",
       "        0.        , 0.        , 0.        , 0.08627451, 0.31372549,\n",
       "        0.20784314, 0.23529412, 0.24313725, 0.22745098, 0.22352941,\n",
       "        0.23529412, 0.23137255, 0.        ],\n",
       "       [0.        , 0.        , 0.        , 0.        , 0.        ,\n",
       "        0.        , 0.        , 0.        , 0.        , 0.        ,\n",
       "        0.        , 0.        , 0.        , 0.        , 0.        ,\n",
       "        0.        , 0.        , 0.        , 0.        , 0.        ,\n",
       "        0.        , 0.        , 0.        , 0.        , 0.        ,\n",
       "        0.        , 0.        , 0.        ],\n",
       "       [0.        , 0.        , 0.        , 0.        , 0.        ,\n",
       "        0.        , 0.        , 0.        , 0.        , 0.        ,\n",
       "        0.        , 0.        , 0.        , 0.        , 0.        ,\n",
       "        0.        , 0.        , 0.        , 0.        , 0.        ,\n",
       "        0.        , 0.        , 0.        , 0.        , 0.        ,\n",
       "        0.        , 0.        , 0.        ],\n",
       "       [0.        , 0.        , 0.        , 0.        , 0.        ,\n",
       "        0.        , 0.        , 0.        , 0.        , 0.        ,\n",
       "        0.        , 0.        , 0.        , 0.        , 0.        ,\n",
       "        0.        , 0.        , 0.        , 0.        , 0.        ,\n",
       "        0.        , 0.        , 0.        , 0.        , 0.        ,\n",
       "        0.        , 0.        , 0.        ],\n",
       "       [0.        , 0.        , 0.        , 0.        , 0.        ,\n",
       "        0.        , 0.        , 0.        , 0.        , 0.        ,\n",
       "        0.        , 0.        , 0.        , 0.        , 0.        ,\n",
       "        0.        , 0.        , 0.        , 0.        , 0.        ,\n",
       "        0.        , 0.        , 0.        , 0.        , 0.        ,\n",
       "        0.        , 0.        , 0.        ]])"
      ]
     },
     "execution_count": 79,
     "metadata": {},
     "output_type": "execute_result"
    }
   ],
   "source": [
    "#The dataset is already split into training and test sets, but need to make a validation set as well.\n",
    "#The neural network is going to be trained using Gradient Descent, so input features need to be scaled too.\n",
    "#Since pixel values are ints from 0-255, just scale them in the range of 0-1 by dividing by 255.0, making them floats\n",
    "\n",
    "X_valid, X_train = X_train_full[:5000]/255.0, X_train_full[5000:]/255.0\n",
    "y_valid, y_train = y_train_full[:5000], y_train_full[5000:]\n",
    "\n",
    "X_train[3]"
   ]
  },
  {
   "cell_type": "code",
   "execution_count": 80,
   "metadata": {},
   "outputs": [
    {
     "data": {
      "text/plain": [
       "4"
      ]
     },
     "execution_count": 80,
     "metadata": {},
     "output_type": "execute_result"
    }
   ],
   "source": [
    "class_names = [\"T-shirt/top\", \"Trouser\", \"Pullover\", \"Dress\", \"Coat\", \"Sandal\", \"Shirt\", \"Sneaker\", \"Bag\", \"Ankle boot\"]\n",
    "y_train[0]"
   ]
  },
  {
   "cell_type": "code",
   "execution_count": 81,
   "metadata": {},
   "outputs": [
    {
     "name": "stdout",
     "output_type": "stream",
     "text": [
      "Model: \"sequential_13\"\n",
      "_________________________________________________________________\n",
      "Layer (type)                 Output Shape              Param #   \n",
      "=================================================================\n",
      "flatten_5 (Flatten)          (None, 784)               0         \n",
      "_________________________________________________________________\n",
      "dense_10 (Dense)             (None, 300)               235500    \n",
      "_________________________________________________________________\n",
      "dense_11 (Dense)             (None, 100)               30100     \n",
      "_________________________________________________________________\n",
      "dense_12 (Dense)             (None, 10)                1010      \n",
      "=================================================================\n",
      "Total params: 266,610\n",
      "Trainable params: 266,610\n",
      "Non-trainable params: 0\n",
      "_________________________________________________________________\n"
     ]
    }
   ],
   "source": [
    "#Simplest keras model for NN composed of a single stack of sequentially connected layers\n",
    "model = keras.models.Sequential()\n",
    "#Next, add a Flatten layer that converts each input image into a 1D array. \n",
    "#Add a Dense layer with 300 neurons that uses ReLU (Rectified Linear Unit) activation function. \n",
    "#Add a second Dense layer with 100 neurons, also using ReLU activation function.\n",
    "#Add a Dense output layer with 10 neurons (1 per class) using softmax activation function since classes are exclusive\n",
    "model = keras.models.Sequential([\n",
    "    keras.layers.Flatten(input_shape=[28, 28]),\n",
    "    keras.layers.Dense(300, activation=\"relu\"),\n",
    "    keras.layers.Dense(100, activation=\"relu\"),\n",
    "    keras.layers.Dense(10, activation=\"softmax\")\n",
    "])\n",
    "model.summary()"
   ]
  },
  {
   "cell_type": "code",
   "execution_count": 82,
   "metadata": {},
   "outputs": [],
   "source": [
    "#Compile model to specify loss function and optimizer to use. \n",
    "#Use sparse_categorical_crossentropy because we have sparse labels, ie each training example has one target class index.\n",
    "#sgd is stochasitc gradient descent.\n",
    "#Since we're building a classifier, it's most appropriate to measure its accuracy during training and evaluation.\n",
    "model.compile(loss='sparse_categorical_crossentropy',\n",
    "             optimizer='sgd',\n",
    "             metrics=[\"accuracy\"])"
   ]
  },
  {
   "cell_type": "code",
   "execution_count": null,
   "metadata": {},
   "outputs": [],
   "source": []
  },
  {
   "cell_type": "code",
   "execution_count": 85,
   "metadata": {},
   "outputs": [
    {
     "name": "stdout",
     "output_type": "stream",
     "text": [
      "Epoch 1/20\n",
      "1719/1719 [==============================] - 5s 3ms/step - loss: 0.3775 - accuracy: 0.8666 - val_loss: 0.3773 - val_accuracy: 0.8642\n",
      "Epoch 2/20\n",
      "1719/1719 [==============================] - 5s 3ms/step - loss: 0.3642 - accuracy: 0.8716 - val_loss: 0.3687 - val_accuracy: 0.8686\n",
      "Epoch 3/20\n",
      "1719/1719 [==============================] - 5s 3ms/step - loss: 0.3520 - accuracy: 0.8762 - val_loss: 0.3749 - val_accuracy: 0.8700\n",
      "Epoch 4/20\n",
      "1719/1719 [==============================] - 6s 4ms/step - loss: 0.3431 - accuracy: 0.8778 - val_loss: 0.3614 - val_accuracy: 0.8758\n",
      "Epoch 5/20\n",
      "1719/1719 [==============================] - 5s 3ms/step - loss: 0.3330 - accuracy: 0.8825 - val_loss: 0.3425 - val_accuracy: 0.8774\n",
      "Epoch 6/20\n",
      "1719/1719 [==============================] - 5s 3ms/step - loss: 0.3248 - accuracy: 0.8839 - val_loss: 0.3351 - val_accuracy: 0.8822\n",
      "Epoch 7/20\n",
      "1719/1719 [==============================] - 6s 3ms/step - loss: 0.3166 - accuracy: 0.8881 - val_loss: 0.3538 - val_accuracy: 0.8718\n",
      "Epoch 8/20\n",
      "1719/1719 [==============================] - 5s 3ms/step - loss: 0.3103 - accuracy: 0.8891 - val_loss: 0.3588 - val_accuracy: 0.8722\n",
      "Epoch 9/20\n",
      "1719/1719 [==============================] - 5s 3ms/step - loss: 0.3032 - accuracy: 0.8930 - val_loss: 0.3231 - val_accuracy: 0.8862\n",
      "Epoch 10/20\n",
      "1719/1719 [==============================] - 5s 3ms/step - loss: 0.2963 - accuracy: 0.8940 - val_loss: 0.3242 - val_accuracy: 0.8852\n",
      "Epoch 11/20\n",
      "1719/1719 [==============================] - 6s 3ms/step - loss: 0.2909 - accuracy: 0.8959 - val_loss: 0.3170 - val_accuracy: 0.8854\n",
      "Epoch 12/20\n",
      "1719/1719 [==============================] - 6s 3ms/step - loss: 0.2853 - accuracy: 0.8970 - val_loss: 0.3205 - val_accuracy: 0.8860\n",
      "Epoch 13/20\n",
      "1719/1719 [==============================] - 5s 3ms/step - loss: 0.2802 - accuracy: 0.8987 - val_loss: 0.3086 - val_accuracy: 0.8894\n",
      "Epoch 14/20\n",
      "1719/1719 [==============================] - 5s 3ms/step - loss: 0.2745 - accuracy: 0.9015 - val_loss: 0.3411 - val_accuracy: 0.8792\n",
      "Epoch 15/20\n",
      "1719/1719 [==============================] - 6s 3ms/step - loss: 0.2692 - accuracy: 0.9040 - val_loss: 0.3181 - val_accuracy: 0.8864\n",
      "Epoch 16/20\n",
      "1719/1719 [==============================] - 6s 4ms/step - loss: 0.2647 - accuracy: 0.9056 - val_loss: 0.3076 - val_accuracy: 0.8910\n",
      "Epoch 17/20\n",
      "1719/1719 [==============================] - 7s 4ms/step - loss: 0.2604 - accuracy: 0.9061 - val_loss: 0.3117 - val_accuracy: 0.8884\n",
      "Epoch 18/20\n",
      "1719/1719 [==============================] - 7s 4ms/step - loss: 0.2560 - accuracy: 0.9077 - val_loss: 0.3062 - val_accuracy: 0.8892\n",
      "Epoch 19/20\n",
      "1719/1719 [==============================] - 7s 4ms/step - loss: 0.2513 - accuracy: 0.9099 - val_loss: 0.2968 - val_accuracy: 0.8938\n",
      "Epoch 20/20\n",
      "1719/1719 [==============================] - 6s 4ms/step - loss: 0.2466 - accuracy: 0.9116 - val_loss: 0.2967 - val_accuracy: 0.8930\n"
     ]
    }
   ],
   "source": [
    "#Train the model\n",
    "history = model.fit(x=X_train, y=y_train, epochs=20, validation_data=(X_valid, y_valid))"
   ]
  },
  {
   "cell_type": "code",
   "execution_count": 86,
   "metadata": {},
   "outputs": [
    {
     "data": {
      "image/png": "[encoded data removed]",
      "text/plain": [
       "<Figure size 576x360 with 1 Axes>"
      ]
     },
     "metadata": {
      "needs_background": "light"
     },
     "output_type": "display_data"
    }
   ],
   "source": [
    "import pandas as pd\n",
    "import matplotlib.pyplot as plt\n",
    "\n",
    "pd.DataFrame(history.history).plot(figsize=(8, 5))\n",
    "plt.grid(True)\n",
    "plt.gca().set_ylim(0,1)\n",
    "plt.show()"
   ]
  },
  {
   "cell_type": "code",
   "execution_count": null,
   "metadata": {},
   "outputs": [],
   "source": []
  }
 ],
 "metadata": {
  "kernelspec": {
   "display_name": "Python 3",
   "language": "python",
   "name": "python3"
  },
  "language_info": {
   "codemirror_mode": {
    "name": "ipython",
    "version": 3
   },
   "file_extension": ".py",
   "mimetype": "text/x-python",
   "name": "python",
   "nbconvert_exporter": "python",
   "pygments_lexer": "ipython3",
   "version": "3.7.7"
  }
 },
 "nbformat": 4,
 "nbformat_minor": 4
}
