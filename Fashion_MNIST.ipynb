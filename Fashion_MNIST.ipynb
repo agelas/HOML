{
 "cells": [
  {
   "cell_type": "code",
   "execution_count": 87,
   "metadata": {},
   "outputs": [],
   "source": [
    "import numpy as np\n",
    "import tensorflow as tf\n",
    "from tensorflow import keras\n",
    "from tensorflow.keras import layers"
   ]
  },
  {
   "cell_type": "code",
   "execution_count": 88,
   "metadata": {},
   "outputs": [],
   "source": [
    "fashion_mnist = keras.datasets.fashion_mnist\n",
    "(X_train_full, y_train_full), (X_test,y_test) = fashion_mnist.load_data()"
   ]
  },
  {
   "cell_type": "code",
   "execution_count": 89,
   "metadata": {},
   "outputs": [],
   "source": [
    "#The dataset is already split into training and test sets, but need to make a validation set as well.\n",
    "#The neural network is going to be trained using Gradient Descent, so input features need to be scaled too.\n",
    "#Since pixel values are ints from 0-255, just scale them in the range of 0-1 by dividing by 255.0, making them floats\n",
    "\n",
    "X_valid, X_train = X_train_full[:5000]/255.0, X_train_full[5000:]/255.0\n",
    "y_valid, y_train = y_train_full[:5000], y_train_full[5000:]\n"
   ]
  },
  {
   "cell_type": "code",
   "execution_count": 90,
   "metadata": {},
   "outputs": [
    {
     "data": {
      "text/plain": [
       "4"
      ]
     },
     "execution_count": 90,
     "metadata": {},
     "output_type": "execute_result"
    }
   ],
   "source": [
    "class_names = [\"T-shirt/top\", \"Trouser\", \"Pullover\", \"Dress\", \"Coat\", \"Sandal\", \"Shirt\", \"Sneaker\", \"Bag\", \"Ankle boot\"]\n",
    "y_train[0]"
   ]
  },
  {
   "cell_type": "code",
   "execution_count": 91,
   "metadata": {},
   "outputs": [
    {
     "name": "stdout",
     "output_type": "stream",
     "text": [
      "Model: \"sequential_15\"\n",
      "_________________________________________________________________\n",
      "Layer (type)                 Output Shape              Param #   \n",
      "=================================================================\n",
      "flatten_6 (Flatten)          (None, 784)               0         \n",
      "_________________________________________________________________\n",
      "dense_13 (Dense)             (None, 300)               235500    \n",
      "_________________________________________________________________\n",
      "dense_14 (Dense)             (None, 100)               30100     \n",
      "_________________________________________________________________\n",
      "dense_15 (Dense)             (None, 10)                1010      \n",
      "=================================================================\n",
      "Total params: 266,610\n",
      "Trainable params: 266,610\n",
      "Non-trainable params: 0\n",
      "_________________________________________________________________\n"
     ]
    }
   ],
   "source": [
    "#Simplest keras model for NN composed of a single stack of sequentially connected layers\n",
    "model = keras.models.Sequential()\n",
    "#Next, add a Flatten layer that converts each input image into a 1D array. \n",
    "#Add a Dense layer with 300 neurons that uses ReLU (Rectified Linear Unit) activation function. \n",
    "#Add a second Dense layer with 100 neurons, also using ReLU activation function.\n",
    "#Add a Dense output layer with 10 neurons (1 per class) using softmax activation function since classes are exclusive\n",
    "model = keras.models.Sequential([\n",
    "    keras.layers.Flatten(input_shape=[28, 28]),\n",
    "    keras.layers.Dense(300, activation=\"relu\"),\n",
    "    keras.layers.Dense(100, activation=\"relu\"),\n",
    "    keras.layers.Dense(10, activation=\"softmax\")\n",
    "])\n",
    "model.summary()"
   ]
  },
  {
   "cell_type": "code",
   "execution_count": 92,
   "metadata": {},
   "outputs": [],
   "source": [
    "#Compile model to specify loss function and optimizer to use. \n",
    "#Use sparse_categorical_crossentropy because we have sparse labels, ie each training example has one target class index.\n",
    "#sgd is stochasitc gradient descent.\n",
    "#Since we're building a classifier, it's most appropriate to measure its accuracy during training and evaluation.\n",
    "model.compile(loss='sparse_categorical_crossentropy',\n",
    "             optimizer='sgd',\n",
    "             metrics=[\"accuracy\"])"
   ]
  },
  {
   "cell_type": "code",
   "execution_count": null,
   "metadata": {},
   "outputs": [],
   "source": []
  },
  {
   "cell_type": "code",
   "execution_count": 93,
   "metadata": {},
   "outputs": [
    {
     "name": "stdout",
     "output_type": "stream",
     "text": [
      "Epoch 1/30\n",
      "1719/1719 [==============================] - 6s 3ms/step - loss: 0.7188 - accuracy: 0.7673 - val_loss: 0.5198 - val_accuracy: 0.8276\n",
      "Epoch 2/30\n",
      "1719/1719 [==============================] - 6s 3ms/step - loss: 0.4942 - accuracy: 0.8284 - val_loss: 0.4712 - val_accuracy: 0.8348\n",
      "Epoch 3/30\n",
      "1719/1719 [==============================] - 6s 4ms/step - loss: 0.4473 - accuracy: 0.8435 - val_loss: 0.4231 - val_accuracy: 0.8514\n",
      "Epoch 4/30\n",
      "1719/1719 [==============================] - 6s 4ms/step - loss: 0.4199 - accuracy: 0.8517 - val_loss: 0.3999 - val_accuracy: 0.8632\n",
      "Epoch 5/30\n",
      "1719/1719 [==============================] - 6s 3ms/step - loss: 0.3997 - accuracy: 0.8601 - val_loss: 0.3865 - val_accuracy: 0.8672\n",
      "Epoch 6/30\n",
      "1719/1719 [==============================] - 6s 4ms/step - loss: 0.3837 - accuracy: 0.8643 - val_loss: 0.3701 - val_accuracy: 0.8736\n",
      "Epoch 7/30\n",
      "1719/1719 [==============================] - 7s 4ms/step - loss: 0.3698 - accuracy: 0.8691 - val_loss: 0.3803 - val_accuracy: 0.8688\n",
      "Epoch 8/30\n",
      "1719/1719 [==============================] - 6s 4ms/step - loss: 0.3570 - accuracy: 0.8730 - val_loss: 0.3752 - val_accuracy: 0.8678\n",
      "Epoch 9/30\n",
      "1719/1719 [==============================] - 6s 4ms/step - loss: 0.3468 - accuracy: 0.8765 - val_loss: 0.3532 - val_accuracy: 0.8754\n",
      "Epoch 10/30\n",
      "1719/1719 [==============================] - 7s 4ms/step - loss: 0.3369 - accuracy: 0.8807 - val_loss: 0.3593 - val_accuracy: 0.8732\n",
      "Epoch 11/30\n",
      "1719/1719 [==============================] - 6s 4ms/step - loss: 0.3280 - accuracy: 0.8836 - val_loss: 0.3439 - val_accuracy: 0.8782\n",
      "Epoch 12/30\n",
      "1719/1719 [==============================] - 7s 4ms/step - loss: 0.3202 - accuracy: 0.8856 - val_loss: 0.3381 - val_accuracy: 0.8792\n",
      "Epoch 13/30\n",
      "1719/1719 [==============================] - 7s 4ms/step - loss: 0.3123 - accuracy: 0.8887 - val_loss: 0.3341 - val_accuracy: 0.8838\n",
      "Epoch 14/30\n",
      "1719/1719 [==============================] - 7s 4ms/step - loss: 0.3064 - accuracy: 0.8893 - val_loss: 0.3403 - val_accuracy: 0.8746\n",
      "Epoch 15/30\n",
      "1719/1719 [==============================] - 6s 4ms/step - loss: 0.2987 - accuracy: 0.8930 - val_loss: 0.3258 - val_accuracy: 0.8868\n",
      "Epoch 16/30\n",
      "1719/1719 [==============================] - 6s 4ms/step - loss: 0.2929 - accuracy: 0.8941 - val_loss: 0.3210 - val_accuracy: 0.8882\n",
      "Epoch 17/30\n",
      "1719/1719 [==============================] - 6s 4ms/step - loss: 0.2859 - accuracy: 0.8973 - val_loss: 0.3171 - val_accuracy: 0.8872\n",
      "Epoch 18/30\n",
      "1719/1719 [==============================] - 6s 3ms/step - loss: 0.2812 - accuracy: 0.8979 - val_loss: 0.3167 - val_accuracy: 0.8868\n",
      "Epoch 19/30\n",
      "1719/1719 [==============================] - 6s 4ms/step - loss: 0.2760 - accuracy: 0.8999 - val_loss: 0.3223 - val_accuracy: 0.8852\n",
      "Epoch 20/30\n",
      "1719/1719 [==============================] - 5s 3ms/step - loss: 0.2709 - accuracy: 0.9019 - val_loss: 0.3186 - val_accuracy: 0.8854\n",
      "Epoch 21/30\n",
      "1719/1719 [==============================] - 5s 3ms/step - loss: 0.2666 - accuracy: 0.9042 - val_loss: 0.3063 - val_accuracy: 0.8912\n",
      "Epoch 22/30\n",
      "1719/1719 [==============================] - 7s 4ms/step - loss: 0.2614 - accuracy: 0.9046 - val_loss: 0.3036 - val_accuracy: 0.8934\n",
      "Epoch 23/30\n",
      "1719/1719 [==============================] - 6s 4ms/step - loss: 0.2571 - accuracy: 0.9077 - val_loss: 0.3181 - val_accuracy: 0.8856\n",
      "Epoch 24/30\n",
      "1719/1719 [==============================] - 7s 4ms/step - loss: 0.2529 - accuracy: 0.9090 - val_loss: 0.3046 - val_accuracy: 0.8902\n",
      "Epoch 25/30\n",
      "1719/1719 [==============================] - 5s 3ms/step - loss: 0.2485 - accuracy: 0.9093 - val_loss: 0.3141 - val_accuracy: 0.8892\n",
      "Epoch 26/30\n",
      "1719/1719 [==============================] - 6s 4ms/step - loss: 0.2429 - accuracy: 0.9127 - val_loss: 0.3028 - val_accuracy: 0.8932\n",
      "Epoch 27/30\n",
      "1719/1719 [==============================] - 5s 3ms/step - loss: 0.2402 - accuracy: 0.9133 - val_loss: 0.2946 - val_accuracy: 0.8920\n",
      "Epoch 28/30\n",
      "1719/1719 [==============================] - 5s 3ms/step - loss: 0.2356 - accuracy: 0.9165 - val_loss: 0.3080 - val_accuracy: 0.8876\n",
      "Epoch 29/30\n",
      "1719/1719 [==============================] - 5s 3ms/step - loss: 0.2319 - accuracy: 0.9166 - val_loss: 0.2980 - val_accuracy: 0.8928\n",
      "Epoch 30/30\n",
      "1719/1719 [==============================] - 5s 3ms/step - loss: 0.2282 - accuracy: 0.9177 - val_loss: 0.3017 - val_accuracy: 0.8936\n"
     ]
    }
   ],
   "source": [
    "#Train the model\n",
    "history = model.fit(x=X_train, y=y_train, epochs=30, validation_data=(X_valid, y_valid))"
   ]
  },
  {
   "cell_type": "code",
   "execution_count": 94,
   "metadata": {},
   "outputs": [
    {
     "data": {
      "image/png": "[encoded data removed]",
      "text/plain": [
       "<Figure size 576x360 with 1 Axes>"
      ]
     },
     "metadata": {
      "needs_background": "light"
     },
     "output_type": "display_data"
    }
   ],
   "source": [
    "import pandas as pd\n",
    "import matplotlib.pyplot as plt\n",
    "\n",
    "pd.DataFrame(history.history).plot(figsize=(8, 5))\n",
    "plt.grid(True)\n",
    "plt.gca().set_ylim(0,1)\n",
    "plt.show()"
   ]
  },
  {
   "cell_type": "code",
   "execution_count": null,
   "metadata": {},
   "outputs": [],
   "source": []
  }
 ],
 "metadata": {
  "kernelspec": {
   "display_name": "Python 3",
   "language": "python",
   "name": "python3"
  },
  "language_info": {
   "codemirror_mode": {
    "name": "ipython",
    "version": 3
   },
   "file_extension": ".py",
   "mimetype": "text/x-python",
   "name": "python",
   "nbconvert_exporter": "python",
   "pygments_lexer": "ipython3",
   "version": "3.7.7"
  }
 },
 "nbformat": 4,
 "nbformat_minor": 4
}
