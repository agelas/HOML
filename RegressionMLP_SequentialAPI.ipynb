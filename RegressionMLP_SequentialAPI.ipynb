{
 "cells": [
  {
   "cell_type": "code",
   "execution_count": 1,
   "metadata": {},
   "outputs": [],
   "source": [
    "#Using the Sequential API to build a regression MLP that predicts prices for California homes\n",
    "\n",
    "from sklearn.datasets import fetch_california_housing\n",
    "from sklearn.model_selection import train_test_split\n",
    "from sklearn.preprocessing import StandardScaler"
   ]
  },
  {
   "cell_type": "code",
   "execution_count": 23,
   "metadata": {},
   "outputs": [
    {
     "ename": "TypeError",
     "evalue": "unhashable type: 'slice'",
     "output_type": "error",
     "traceback": [
      "\u001b[1;31m---------------------------------------------------------------------------\u001b[0m",
      "\u001b[1;31mTypeError\u001b[0m                                 Traceback (most recent call last)",
      "\u001b[1;32m<ipython-input-23-bf906db73e86>\u001b[0m in \u001b[0;36m<module>\u001b[1;34m\u001b[0m\n\u001b[0;32m      7\u001b[0m \u001b[0mX_train\u001b[0m\u001b[1;33m,\u001b[0m \u001b[0mX_valid\u001b[0m\u001b[1;33m,\u001b[0m \u001b[0my_train\u001b[0m\u001b[1;33m,\u001b[0m \u001b[0my_valid\u001b[0m \u001b[1;33m=\u001b[0m \u001b[0mtrain_test_split\u001b[0m\u001b[1;33m(\u001b[0m\u001b[0mX_train_full\u001b[0m\u001b[1;33m,\u001b[0m \u001b[0my_train_full\u001b[0m\u001b[1;33m)\u001b[0m\u001b[1;33m\u001b[0m\u001b[1;33m\u001b[0m\u001b[0m\n\u001b[0;32m      8\u001b[0m \u001b[1;33m\u001b[0m\u001b[0m\n\u001b[1;32m----> 9\u001b[1;33m \u001b[0mhousing\u001b[0m\u001b[1;33m[\u001b[0m\u001b[1;33m:\u001b[0m\u001b[1;36m10\u001b[0m\u001b[1;33m]\u001b[0m\u001b[1;33m\u001b[0m\u001b[1;33m\u001b[0m\u001b[0m\n\u001b[0m",
      "\u001b[1;31mTypeError\u001b[0m: unhashable type: 'slice'"
     ]
    }
   ],
   "source": [
    "housing = fetch_california_housing()\n",
    "\n",
    "#Split data to get training and test set \n",
    "X_train_full, X_test, y_train_full, y_test = train_test_split(housing.data, housing.target)\n",
    "\n",
    "#Further split X_train_full and y_train_full into training and validation sets\n",
    "X_train, X_valid, y_train, y_valid = train_test_split(X_train_full, y_train_full)\n",
    "\n",
    "housing[:10]"
   ]
  },
  {
   "cell_type": "code",
   "execution_count": 3,
   "metadata": {},
   "outputs": [],
   "source": [
    "#Scale all the datasets\n",
    "\n",
    "scaler = StandardScaler()\n",
    "X_train = scaler.fit_transform(X_train)\n",
    "X_valid = scaler.transform(X_valid)\n",
    "X_test = scaler.transform(X_test)"
   ]
  },
  {
   "cell_type": "code",
   "execution_count": 6,
   "metadata": {},
   "outputs": [
    {
     "name": "stdout",
     "output_type": "stream",
     "text": [
      "Epoch 1/20\n",
      "363/363 [==============================] - 0s 1ms/step - loss: 0.9254 - val_loss: 6.9625\n",
      "Epoch 2/20\n",
      "363/363 [==============================] - 0s 875us/step - loss: 0.8503 - val_loss: 0.5382\n",
      "Epoch 3/20\n",
      "363/363 [==============================] - 0s 878us/step - loss: 0.4784 - val_loss: 0.4406\n",
      "Epoch 4/20\n",
      "363/363 [==============================] - 0s 905us/step - loss: 0.4148 - val_loss: 0.4142\n",
      "Epoch 5/20\n",
      "363/363 [==============================] - 0s 905us/step - loss: 0.3987 - val_loss: 0.4030\n",
      "Epoch 6/20\n",
      "363/363 [==============================] - 0s 878us/step - loss: 0.3836 - val_loss: 0.3962\n",
      "Epoch 7/20\n",
      "363/363 [==============================] - 0s 878us/step - loss: 0.3780 - val_loss: 0.3846\n",
      "Epoch 8/20\n",
      "363/363 [==============================] - 0s 867us/step - loss: 0.3788 - val_loss: 0.3831\n",
      "Epoch 9/20\n",
      "363/363 [==============================] - 0s 897us/step - loss: 0.3685 - val_loss: 0.3775\n",
      "Epoch 10/20\n",
      "363/363 [==============================] - 0s 903us/step - loss: 0.3645 - val_loss: 0.3766\n",
      "Epoch 11/20\n",
      "363/363 [==============================] - ETA: 0s - loss: 0.362 - 0s 903us/step - loss: 0.3621 - val_loss: 0.3669\n",
      "Epoch 12/20\n",
      "363/363 [==============================] - 0s 870us/step - loss: 0.3571 - val_loss: 0.3692\n",
      "Epoch 13/20\n",
      "363/363 [==============================] - 0s 883us/step - loss: 0.3563 - val_loss: 0.3625\n",
      "Epoch 14/20\n",
      "363/363 [==============================] - 0s 911us/step - loss: 0.3546 - val_loss: 0.3645\n",
      "Epoch 15/20\n",
      "363/363 [==============================] - 0s 881us/step - loss: 0.3524 - val_loss: 0.3925\n",
      "Epoch 16/20\n",
      "363/363 [==============================] - 0s 894us/step - loss: 0.3519 - val_loss: 0.4713\n",
      "Epoch 17/20\n",
      "363/363 [==============================] - 0s 925us/step - loss: 0.3521 - val_loss: 0.3598\n",
      "Epoch 18/20\n",
      "363/363 [==============================] - 0s 878us/step - loss: 0.3455 - val_loss: 0.3575\n",
      "Epoch 19/20\n",
      "363/363 [==============================] - 0s 925us/step - loss: 0.3442 - val_loss: 0.3564\n",
      "Epoch 20/20\n",
      "363/363 [==============================] - 0s 988us/step - loss: 0.3432 - val_loss: 0.3590\n"
     ]
    }
   ],
   "source": [
    "from tensorflow import keras\n",
    "#The dataset is kinda noisy, so use a single hidden layer with relatively few neurons to avoid overfitting.\n",
    "#The output layer has a single neuron because we only want to predict a single value.\n",
    "\n",
    "model = keras.models.Sequential([\n",
    "    keras.layers.Dense(30, activation = \"relu\", input_shape=X_train.shape[1:]),\n",
    "    keras.layers.Dense(1)\n",
    "])\n",
    "\n",
    "model.compile(loss=\"mean_squared_error\", optimizer=\"sgd\")\n",
    "\n",
    "history = model.fit(X_train, y_train, epochs = 20, validation_data=(X_valid, y_valid))"
   ]
  },
  {
   "cell_type": "code",
   "execution_count": 8,
   "metadata": {},
   "outputs": [
    {
     "data": {
      "image/png": "[encoded data removed]",
      "text/plain": [
       "<Figure size 576x360 with 1 Axes>"
      ]
     },
     "metadata": {
      "needs_background": "light"
     },
     "output_type": "display_data"
    }
   ],
   "source": [
    "import pandas as pd\n",
    "import matplotlib.pyplot as plt\n",
    "\n",
    "pd.DataFrame(history.history).plot(figsize=(8, 5))\n",
    "plt.grid(True)\n",
    "plt.gca().set_ylim(0,1)\n",
    "plt.xlabel('Epochs')\n",
    "plt.ylabel('Loss')\n",
    "plt.show()"
   ]
  },
  {
   "cell_type": "code",
   "execution_count": 9,
   "metadata": {},
   "outputs": [
    {
     "name": "stdout",
     "output_type": "stream",
     "text": [
      "162/162 [==============================] - 0s 629us/step - loss: 0.3689\n"
     ]
    }
   ],
   "source": [
    "#Testing\n",
    "mse_test = model.evaluate(X_test, y_test)\n",
    "X_new = X_test[:3]\n",
    "y_pred = model.predict(X_new)"
   ]
  },
  {
   "cell_type": "code",
   "execution_count": 21,
   "metadata": {},
   "outputs": [
    {
     "name": "stdout",
     "output_type": "stream",
     "text": [
      "Model: \"sequential_1\"\n",
      "_________________________________________________________________\n",
      "Layer (type)                 Output Shape              Param #   \n",
      "=================================================================\n",
      "dense_2 (Dense)              (None, 30)                270       \n",
      "_________________________________________________________________\n",
      "dense_3 (Dense)              (None, 1)                 31        \n",
      "=================================================================\n",
      "Total params: 301\n",
      "Trainable params: 301\n",
      "Non-trainable params: 0\n",
      "_________________________________________________________________\n"
     ]
    }
   ],
   "source": [
    "model.summary()"
   ]
  },
  {
   "cell_type": "code",
   "execution_count": null,
   "metadata": {},
   "outputs": [],
   "source": []
  }
 ],
 "metadata": {
  "kernelspec": {
   "display_name": "Python 3",
   "language": "python",
   "name": "python3"
  },
  "language_info": {
   "codemirror_mode": {
    "name": "ipython",
    "version": 3
   },
   "file_extension": ".py",
   "mimetype": "text/x-python",
   "name": "python",
   "nbconvert_exporter": "python",
   "pygments_lexer": "ipython3",
   "version": "3.7.7"
  }
 },
 "nbformat": 4,
 "nbformat_minor": 4
}
